{
 "cells": [
  {
   "cell_type": "code",
   "execution_count": 1,
   "metadata": {},
   "outputs": [],
   "source": [
    "# Common packages and variables\n",
    "%run \"Common Setup.ipynb\""
   ]
  },
  {
   "cell_type": "code",
   "execution_count": 2,
   "metadata": {},
   "outputs": [],
   "source": [
    "# dollar sign ($) is a wildcard used to match British and American spellings\n",
    "# e.g. flavo$r matches both flavour and flavor\n",
    "# see https://images.webofknowledge.com/images/help/WOS/hs_wildcards.html\n",
    "# http://ipscience-help.thomsonreuters.com/wosWebServicesLite/WebServiceOperationsGroup/WebServiceOperations/g2/user_query.html\n",
    "search_query = [\"\"\"\n",
    "TS=((\"Integrated Assessment and Model$ing\" OR \"integrated environmental model$ing\" \n",
    "     OR \"integrated assessment\" OR \"integrated model$ing\" OR \"environmental model$ing\" \n",
    "     OR \"hydrological model$ing\" OR \"ecological model$ing\" OR \"ecosystem model$ing\" \n",
    "     OR \"model$ing framework\" OR \"framework development\" OR \"model integration\") \n",
    "NOT (\"chemical\" OR \"industry\" OR \"cancer\" OR \"gene\")) \n",
    "NOT SO=(\"PSYCHOL*\" OR \"BIOINFO*\" OR \"BUSINESS INFORMATION*\" OR \"MANUFACTURING*\" \n",
    "        OR \"BIOLOGICALLY INSPIRED COGNITIVE ARCHITECTURES*\" OR \"COMPLEXITY*\" \n",
    "        OR \"INDUSTRIAL ECOLOGY*\" OR \"QUANTITATIVE FINANCE\" OR \"VIRTUAL REALITY*\" \n",
    "        OR \"COMMUNICATION NETWORKS*\" OR \"COMPUTER METHODS AND PROGRAMS IN BIOMEDICINE\" \n",
    "        OR \"ARTIFICIAL INTELLIGENCE IN EDUCATION\" OR \"INSURANCE MATHEMATICS & ECONOMICS\" \n",
    "        OR \"ASTIN BULLETIN\" OR \"COMMUNICATION TECHNOLOGY\" OR \"COMPUTERS & STRUCTURES\" \n",
    "        OR \"CHEMOSPHERE\" OR \"VISUAL COMPUTING\" OR \"INTERNATIONAL CONFERENCE ON COMPUTER SCIENCE AND APPLICATIONS\" \n",
    "        OR \"WASTE MANAGEMENT*\" OR \"OPTIMIZATION AND ENGINEERING\" OR \"COMPUTERS & OPERATIONS RESEARCH\")\n",
    "AND WC=(\"ENVIRONMENTAL SCIENCES\" OR \"WATER RESOURCES\" OR \"ENGINEERING ENVIRONMENTAL\" OR \"INTERDISCIPLINARY APPLICATIONS\")\n",
    "AND SU=(\"Environmental Sciences & Ecology\" OR \"Water Resources\" OR \"Computer Science\")\n",
    "\"\"\"]"
   ]
  },
  {
   "cell_type": "markdown",
   "metadata": {},
   "source": [
    "See [field tags](http://ipscience-help.thomsonreuters.com/wosWebServicesLite/WebServiceOperationsGroup/WebServiceOperations/g2/user_query/field_tags/WOSfieldTags.html) to help construct search parameters\n",
    "    "
   ]
  },
  {
   "cell_type": "markdown",
   "metadata": {},
   "source": [
    "## Send query to Clarivate Web of Science servers"
   ]
  },
  {
   "cell_type": "code",
   "execution_count": 3,
   "metadata": {
    "scrolled": false
   },
   "outputs": [
    {
     "name": "stdout",
     "output_type": "stream",
     "text": [
      "Authenticated (SID: 5Fdzl2aG2XkdMVM1TOF)\n",
      "Got 8622 records\n",
      "Wall time: 10.4 s\n"
     ]
    }
   ],
   "source": [
    "%%time\n",
    "overwrite = False  # Do not overwrite previous identical search if it exists\n",
    "search_span = {\n",
    "    'begin': '1970-01-01',\n",
    "    'end': '2018-12-31'\n",
    "}\n",
    "\n",
    "id_to_query, query_recs = wosis.query(search_query, overwrite, WOS_CONFIG, time_span=search_span, tmp_dir=TMP_DIR, skip_refs=True)"
   ]
  },
  {
   "cell_type": "markdown",
   "metadata": {},
   "source": [
    "The command above will save a cached copy of the ID to query used in the indicated temporary directory.\n",
    "It can be loaded with the following snippet if desired:\n",
    "\n",
    "```python\n",
    "import json\n",
    "\n",
    "with open('../tmp/hash_to_query.txt', 'r') as fn:\n",
    "    records = json.load(fn)\n",
    "```\n",
    "\n",
    "Below I am saving a canonical version with the date to reuse later"
   ]
  },
  {
   "cell_type": "code",
   "execution_count": 4,
   "metadata": {},
   "outputs": [],
   "source": [
    "import os\n",
    "\n",
    "with open(os.path.join(TMP_DIR, '2019-02-24_hash_to_query.txt'), 'w') as fn:\n",
    "    json.dump(id_to_query, fn, indent=2)"
   ]
  },
  {
   "cell_type": "code",
   "execution_count": 5,
   "metadata": {},
   "outputs": [],
   "source": [
    "query_id = list(query_recs)[0]\n",
    "RC = wosis.load_query_results(\"{}/{}.txt\".format(TMP_DIR, query_id))"
   ]
  },
  {
   "cell_type": "code",
   "execution_count": 6,
   "metadata": {},
   "outputs": [
    {
     "data": {
      "text/plain": [
       "'9c6ab9828cde626ed770f2efd71c7f17_1970-01-01-2018-12-31'"
      ]
     },
     "execution_count": 6,
     "metadata": {},
     "output_type": "execute_result"
    }
   ],
   "source": [
    "query_id"
   ]
  },
  {
   "cell_type": "code",
   "execution_count": 7,
   "metadata": {},
   "outputs": [
    {
     "data": {
      "text/plain": [
       "8622"
      ]
     },
     "execution_count": 7,
     "metadata": {},
     "output_type": "execute_result"
    }
   ],
   "source": [
    "len(RC)"
   ]
  },
  {
   "cell_type": "code",
   "execution_count": 8,
   "metadata": {},
   "outputs": [
    {
     "name": "stdout",
     "output_type": "stream",
     "text": [
      "Corpora consists of 8622 Publications\n"
     ]
    }
   ],
   "source": [
    "RC = RC.yearSplit(0, 2018)\n",
    "print(\"Corpora consists of\", len(RC), \"Publications\")"
   ]
  },
  {
   "cell_type": "markdown",
   "metadata": {},
   "source": [
    "# Create representative data store\n",
    "\n",
    "Dataset for publication cannot include WoS generated keywords or abstract text. It must also include attribution text."
   ]
  },
  {
   "cell_type": "code",
   "execution_count": 9,
   "metadata": {},
   "outputs": [],
   "source": [
    "from datetime import datetime\n",
    "\n",
    "corpora = RC.forNLP(extraColumns=[\"AU\", \"SO\", \"DE\"])\n",
    "corpora_df = pd.DataFrame(corpora)\n",
    "corpora_df.drop([\"keywords\", \"abstract\"], inplace=True, axis=1)\n",
    "\n",
    "assert len(corpora_df.id.unique()) == len(corpora_df.id), \"Duplicate records found!\"\n",
    "\n",
    "corpora_fn = \"../data/{}.csv\".format(query_id)\n",
    "with open(corpora_fn, 'w') as fn:\n",
    "    fn.write(\"# Data from Clarivate Analytics' Web of Science, retrieved 24 February 2018\\n\")\n",
    "    fn.write(\"# This file generated on {}\\n\".format(datetime.now().strftime(\"%Y-%m-%d %H:%M:%S\")))\n",
    "    corpora_df.index.name = \"item\"\n",
    "    corpora_df.to_csv(fn)"
   ]
  },
  {
   "cell_type": "code",
   "execution_count": null,
   "metadata": {},
   "outputs": [],
   "source": []
  }
 ],
 "metadata": {
  "kernelspec": {
   "display_name": "Python (Biblio)",
   "language": "python",
   "name": "biblio"
  },
  "language_info": {
   "codemirror_mode": {
    "name": "ipython",
    "version": 3
   },
   "file_extension": ".py",
   "mimetype": "text/x-python",
   "name": "python",
   "nbconvert_exporter": "python",
   "pygments_lexer": "ipython3",
   "version": "3.6.6"
  }
 },
 "nbformat": 4,
 "nbformat_minor": 2
}
