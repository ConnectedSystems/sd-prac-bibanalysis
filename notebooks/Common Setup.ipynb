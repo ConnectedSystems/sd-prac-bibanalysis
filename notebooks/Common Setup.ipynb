{
 "cells": [
  {
   "cell_type": "code",
   "execution_count": null,
   "metadata": {},
   "outputs": [],
   "source": [
    "%reload_ext autoreload\n",
    "%autoreload 2"
   ]
  },
  {
   "cell_type": "code",
   "execution_count": null,
   "metadata": {},
   "outputs": [],
   "source": [
    "import wosis\n",
    "import wosis.analysis.plotting as wos_plot\n",
    "import pandas as pd\n",
    "import metaknowledge as mk\n",
    "import networkx as nx\n",
    "\n",
    "import numpy as np\n",
    "import pandas as pd\n",
    "import json\n",
    "\n",
    "import matplotlib.pyplot as plt\n",
    "import seaborn as sns\n",
    "\n",
    "# Make plots look better\n",
    "sns.set_style('darkgrid')\n",
    "sns.set_context('paper', font_scale=2.0)\n",
    "plt.tight_layout();"
   ]
  },
  {
   "cell_type": "code",
   "execution_count": null,
   "metadata": {},
   "outputs": [],
   "source": [
    "CONFIG_FILE = \"../config/config.yml\"  # Point to configuration file\n",
    "TMP_DIR = '../tmp'  # temporary store - data that cannot be shared is stored here\n",
    "DATA_DIR = '../data'  # data that can be shared is stored here\n",
    "FIG_DIR = '../figs'  # directory to place generated figures"
   ]
  },
  {
   "cell_type": "code",
   "execution_count": null,
   "metadata": {},
   "outputs": [],
   "source": [
    "WOS_CONFIG = wosis.load_config(CONFIG_FILE)"
   ]
  },
  {
   "cell_type": "code",
   "execution_count": null,
   "metadata": {},
   "outputs": [],
   "source": [
    "# import wos\n",
    "# import wos_parser\n",
    "# from wosis.analysis.search import (preview_matches, search_records, keyword_matches, \n",
    "#                                    find_pubs_by_authors, preview_matches_by_keyword, get_unique_kw_titles)"
   ]
  }
 ],
 "metadata": {
  "kernelspec": {
   "display_name": "Python (Biblio)",
   "language": "python",
   "name": "biblio"
  },
  "language_info": {
   "codemirror_mode": {
    "name": "ipython",
    "version": 3
   },
   "file_extension": ".py",
   "mimetype": "text/x-python",
   "name": "python",
   "nbconvert_exporter": "python",
   "pygments_lexer": "ipython3",
   "version": "3.6.6"
  }
 },
 "nbformat": 4,
 "nbformat_minor": 2
}
