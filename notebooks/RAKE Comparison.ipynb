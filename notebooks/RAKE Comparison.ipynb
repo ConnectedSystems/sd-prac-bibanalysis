{
 "cells": [
  {
   "cell_type": "code",
   "execution_count": 1,
   "metadata": {},
   "outputs": [],
   "source": [
    "import rake_nltk\n",
    "import wosis\n",
    "import pandas as pd"
   ]
  },
  {
   "cell_type": "markdown",
   "metadata": {},
   "source": [
    "The abstract used for demonstration here is taken from David et al. (2013) (DOI: 10.1016/j.envsoft.2012.03.006)\n",
    "\n",
    "\"A software engineering perspective on environmental modeling framework design: The Object Modeling System\""
   ]
  },
  {
   "cell_type": "code",
   "execution_count": 2,
   "metadata": {},
   "outputs": [],
   "source": [
    "abstract_text = \"The environmental modeling community has historically been concerned with the proliferation of models and the effort associated with collective model development tasks (e.g., code generation, data transformation, etc.). Environmental modeling frameworks (EMFs) have been developed to address this problem, but much work remains before EMFs are adopted as mainstream modeling tools. Environmental model development requires both scientific understanding of environmental phenomena and software developer proficiency. EMFs support the modeling process through streamlining model code development, allowing seamless access to data, and supporting data analysis and visualization. EMFs also support aggregation of model components into functional units, component interaction and communication, temporal-spatial stepping, scaling of spatial data, multi-threading/multi-processor support, and cross-language interoperability. Some EMFs additionally focus on high-performance computing and are tailored for particular modeling domains such as ecosystem, socio-economic, or climate change research. The Object Modeling System Version 3 (OMS3) EMF employs new advances in software framework design to better support the environmental model development process. This paper discusses key EMF design goals/constraints and addresses software engineering aspects that have made OMS3 framework development efficacious and its application practical, as demonstrated by leveraging software engineering efforts outside of the modeling community and lessons learned from over a decade of EMF development. Software engineering approaches employed in OMS3 are highlighted including a non-invasive lightweight framework design supporting component-based model development, use of implicit parallelism in system design, use of domain specific language design patterns, and cloud-based support for computational scalability. The key advancements in EMF design presented herein may be applicable and beneficial for other EMF developers seeking to better support environmental model development through improved framework design.\""
   ]
  },
  {
   "cell_type": "code",
   "execution_count": 3,
   "metadata": {},
   "outputs": [
    {
     "data": {
      "text/plain": [
       "['paper discusses key emf design goals',\n",
       " 'invasive lightweight framework design supporting component',\n",
       " 'domain specific language design patterns',\n",
       " 'emf design presented herein may',\n",
       " 'object modeling system version 3',\n",
       " 'made oms3 framework development efficacious',\n",
       " 'leveraging software engineering efforts outside',\n",
       " 'better support environmental model development',\n",
       " 'emf employs new advances',\n",
       " 'streamlining model code development',\n",
       " 'collective model development tasks',\n",
       " 'software engineering approaches employed',\n",
       " 'addresses software engineering aspects',\n",
       " 'g ., code generation',\n",
       " 'emfs also support aggregation',\n",
       " 'environmental model development requires',\n",
       " 'environmental model development process',\n",
       " 'software framework design',\n",
       " 'improved framework design',\n",
       " 'based model development',\n",
       " 'supporting data analysis',\n",
       " 'emf developers seeking',\n",
       " 'environmental modeling frameworks',\n",
       " 'environmental modeling community',\n",
       " 'software developer proficiency',\n",
       " 'emfs additionally focus',\n",
       " 'particular modeling domains',\n",
       " 'mainstream modeling tools',\n",
       " 'much work remains',\n",
       " 'climate change research',\n",
       " 'allowing seamless access']"
      ]
     },
     "execution_count": 3,
     "metadata": {},
     "output_type": "execute_result"
    }
   ],
   "source": [
    "rake_model = rake_nltk.Rake(min_length=3)\n",
    "\n",
    "rake_model.extract_keywords_from_text(abstract_text)\n",
    "rake_model.get_ranked_phrases()"
   ]
  },
  {
   "cell_type": "markdown",
   "metadata": {},
   "source": [
    "To use Wosis, we need to create a Pandas DataFrame which holds relevant data for the abstract - this is because the workflow it attempts to simplify is assumed to involve a large number of texts."
   ]
  },
  {
   "cell_type": "code",
   "execution_count": 4,
   "metadata": {},
   "outputs": [],
   "source": [
    "example_corpus = pd.DataFrame({\n",
    "    'title': 'A software engineering perspective on environmental modeling framework design: The Object Modeling System',\n",
    "    'year': '2013',\n",
    "    'abstract': abstract_text,\n",
    "    'DOI': '10.1016/j.envsoft.2012.03.006',\n",
    "    'id': 'example'\n",
    "}, index=[0])"
   ]
  },
  {
   "cell_type": "code",
   "execution_count": 5,
   "metadata": {},
   "outputs": [
    {
     "name": "stdout",
     "output_type": "stream",
     "text": [
      "A software engineering perspective on environmental modeling framework design: The Object Modeling System (2013) \n",
      "https://dx.doi.org/10.1016/j.envsoft.2012.03.006 \n",
      "\n",
      "The Object Modeling System Version 3 (OMS3) EMF employs new advances in software framework design to better support the environmental model development process. \n",
      "\n",
      "The environmental modeling community has historically been concerned with the proliferation of models and the effort associated with collective model development tasks (e.g., code generation, data transformation, etc.). \n",
      "\n",
      "EMFs also support aggregation of model components into functional units, component interaction and communication, temporal-spatial stepping, scaling of spatial data, multi-threading/multi-processor support, and cross-language interoperability. \n",
      "\n",
      "The key advancements in EMF design presented herein may be applicable and beneficial for other EMF developers seeking to better support environmental model development through improved framework design. \n",
      "\n",
      "Some EMFs additionally focus on high-performance computing and are tailored for particular modeling domains such as ecosystem, socio-economic, or climate change research. \n",
      "\n",
      "==================== \n",
      "\n"
     ]
    }
   ],
   "source": [
    "identified_phrases = wosis.find_phrases(example_corpus, top_n=5)\n",
    "identified_phrases.display_phrases()"
   ]
  },
  {
   "cell_type": "code",
   "execution_count": null,
   "metadata": {},
   "outputs": [],
   "source": []
  }
 ],
 "metadata": {
  "kernelspec": {
   "display_name": "Python (Biblio)",
   "language": "python",
   "name": "myenv"
  },
  "language_info": {
   "codemirror_mode": {
    "name": "ipython",
    "version": 3
   },
   "file_extension": ".py",
   "mimetype": "text/x-python",
   "name": "python",
   "nbconvert_exporter": "python",
   "pygments_lexer": "ipython3",
   "version": "3.5.6"
  }
 },
 "nbformat": 4,
 "nbformat_minor": 2
}
