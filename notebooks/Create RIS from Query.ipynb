{
 "cells": [
  {
   "cell_type": "code",
   "execution_count": null,
   "metadata": {},
   "outputs": [],
   "source": [
    "%reload_ext autoreload\n",
    "%autoreload 2"
   ]
  },
  {
   "cell_type": "code",
   "execution_count": null,
   "metadata": {},
   "outputs": [],
   "source": [
    "import wosis\n",
    "import pandas as pd\n",
    "import metaknowledge as mk"
   ]
  },
  {
   "cell_type": "code",
   "execution_count": null,
   "metadata": {},
   "outputs": [],
   "source": [
    "wos_config = wosis.load_config(\"config.yml\")"
   ]
  },
  {
   "cell_type": "code",
   "execution_count": null,
   "metadata": {},
   "outputs": [],
   "source": [
    "# dollar sign ($) is a wildcard used to match British and American spellings\n",
    "# e.g. flavo$r matches both flavour and flavor\n",
    "# see https://images.webofknowledge.com/images/help/WOS/hs_wildcards.html\n",
    "inclusive_search_terms = (\"Integrated Assessment and Model$ing\", \"integrated environmental model$ing\", \n",
    "                          \"integrated assessment\", \"integrated model$ing\", \"environmental model$ing\", \n",
    "                          \"hydrological model$ing\", \"ecological model$ing\", \"ecosystem model$ing\", \"model$ing framework\",\n",
    "                           \"framework development\", \"model integration\")\n",
    "exclusive_search_terms = (\"chemical\", \"industry\", \"cancer\", \"gene\")\n",
    "subject_area = (\"ENVIRONMENTAL SCIENCES\", \"WATER RESOURCES\", \"ENGINEERING ENVIRONMENTAL\", \"INTERDISCIPLINARY APPLICATIONS\")"
   ]
  },
  {
   "cell_type": "code",
   "execution_count": null,
   "metadata": {},
   "outputs": [],
   "source": [
    "topics = [wosis.build_query(inclusive_search_terms, exclusive_search_terms, subject_area), ]"
   ]
  },
  {
   "cell_type": "code",
   "execution_count": null,
   "metadata": {},
   "outputs": [],
   "source": [
    "topics"
   ]
  },
  {
   "cell_type": "markdown",
   "metadata": {},
   "source": [
    "See [field tags](http://ipscience-help.thomsonreuters.com/wosWebServicesLite/WebServiceOperationsGroup/WebServiceOperations/g2/user_query/field_tags/WOSfieldTags.html) to help construct search parameters\n",
    "    "
   ]
  },
  {
   "cell_type": "markdown",
   "metadata": {},
   "source": [
    "## Send query to Clarivate Web of Science servers"
   ]
  },
  {
   "cell_type": "code",
   "execution_count": null,
   "metadata": {
    "scrolled": true
   },
   "outputs": [],
   "source": [
    "%%time\n",
    "overwrite = False\n",
    "id_to_query = wosis.query(topics, overwrite, wos_config)"
   ]
  },
  {
   "cell_type": "code",
   "execution_count": null,
   "metadata": {},
   "outputs": [],
   "source": [
    "import json\n",
    "\n",
    "with open('tmp/hash_to_query.txt', 'w') as file:\n",
    "     file.write(json.dumps(id_to_query, indent=2))  # use `json.loads` to do the reverse"
   ]
  },
  {
   "cell_type": "code",
   "execution_count": null,
   "metadata": {},
   "outputs": [],
   "source": [
    "query_id = list(id_to_query.keys())[0]"
   ]
  },
  {
   "cell_type": "code",
   "execution_count": null,
   "metadata": {},
   "outputs": [],
   "source": [
    "RC = mk.RecordCollection(f\"tmp/{query_id}.txt\")\n",
    "RC = RC.yearSplit(0, 2017)\n",
    "print(\"Corpora consists of\", len(RC), \"Publications\")"
   ]
  },
  {
   "cell_type": "markdown",
   "metadata": {},
   "source": [
    "# Create representative data store\n",
    "\n",
    "Dataset for publication cannot include WoS generated keywords or abstract text. It must also include attribution text."
   ]
  },
  {
   "cell_type": "code",
   "execution_count": null,
   "metadata": {},
   "outputs": [],
   "source": [
    "from datetime import datetime\n",
    "\n",
    "corpora = RC.forNLP(extraColumns=[\"AU\", \"SO\", \"DE\"])\n",
    "corpora_df = pd.DataFrame(corpora)\n",
    "corpora_df.drop([\"keywords\", \"abstract\"], inplace=True, axis=1)\n",
    "\n",
    "corpora_fn = f\"data/{query_id}.csv\"\n",
    "with open(corpora_fn, 'w') as fn:\n",
    "    fn.write(\"# Data from Clarivate Analytics' Web of Science, retrieved 29 October 2018\\n\")\n",
    "    fn.write(\"# This file generated on {}\\n\".format(datetime.now().strftime(\"%Y-%m-%d %H:%M:%S\")))\n",
    "    corpora_df.index.name = \"item\"\n",
    "    corpora_df.to_csv(fn)"
   ]
  },
  {
   "cell_type": "code",
   "execution_count": null,
   "metadata": {},
   "outputs": [],
   "source": []
  }
 ],
 "metadata": {
  "kernelspec": {
   "display_name": "Python (Biblio)",
   "language": "python",
   "name": "myenv"
  },
  "language_info": {
   "codemirror_mode": {
    "name": "ipython",
    "version": 3
   },
   "file_extension": ".py",
   "mimetype": "text/x-python",
   "name": "python",
   "nbconvert_exporter": "python",
   "pygments_lexer": "ipython3",
   "version": "3.7.0"
  }
 },
 "nbformat": 4,
 "nbformat_minor": 2
}
