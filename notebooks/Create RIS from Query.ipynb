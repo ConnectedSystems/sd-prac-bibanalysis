{
 "cells": [
  {
   "cell_type": "code",
   "execution_count": 1,
   "metadata": {
    "collapsed": true
   },
   "outputs": [],
   "source": [
    "%reload_ext autoreload\n",
    "%autoreload 2"
   ]
  },
  {
   "cell_type": "code",
   "execution_count": 2,
   "metadata": {
    "collapsed": true
   },
   "outputs": [],
   "source": [
    "import yaml\n",
    "\n",
    "import os\n",
    "import wos\n",
    "import wos_parser\n",
    "import metaknowledge as mk\n",
    "\n",
    "import wosis\n",
    "import pandas as pd"
   ]
  },
  {
   "cell_type": "code",
   "execution_count": 3,
   "metadata": {
    "collapsed": true
   },
   "outputs": [],
   "source": [
    "with open(\"config.yml\") as config:\n",
    "    wos_config = yaml.load(config)\n",
    "    wos_config = wos_config['wos']"
   ]
  },
  {
   "cell_type": "code",
   "execution_count": 4,
   "metadata": {
    "collapsed": true
   },
   "outputs": [],
   "source": [
    "# dollar sign ($) is a wildcard used to match British and American spellings\n",
    "# e.g. flavo$r matches both flavour and flavor\n",
    "# see https://images.webofknowledge.com/images/help/WOS/hs_wildcards.html\n",
    "inclusive_search_terms = (\"Integrated Assessment and Model$ing\", \"integrated environmental model$ing\", \n",
    "                          \"integrated assessment\", \"integrated model$ing\", \"environmental model$ing\", \n",
    "                          \"hydrological model$ing\", \"ecological model$ing\", \"ecosystem model$ing\", \"model$ing framework\",\n",
    "                           \"framework development\", \"model integration\")\n",
    "exclusive_search_terms = (\"chemical\", \"industry\", \"cancer\", \"gene\")\n",
    "subject_area = (\"ENVIRONMENTAL SCIENCES\", \"WATER RESOURCES\", \"ENGINEERING ENVIRONMENTAL\", \"INTERDISCIPLINARY APPLICATIONS\")"
   ]
  },
  {
   "cell_type": "code",
   "execution_count": 5,
   "metadata": {
    "collapsed": true
   },
   "outputs": [],
   "source": [
    "topics = [wosis.build_query(inclusive_search_terms, exclusive_search_terms, subject_area), ]"
   ]
  },
  {
   "cell_type": "code",
   "execution_count": 6,
   "metadata": {},
   "outputs": [
    {
     "data": {
      "text/plain": [
       "['TS=((\"Integrated Assessment and Model$ing\" OR \"integrated environmental model$ing\" OR \"integrated assessment\" OR \"integrated model$ing\" OR \"environmental model$ing\" OR \"hydrological model$ing\" OR \"ecological model$ing\" OR \"ecosystem model$ing\" OR \"model$ing framework\" OR \"framework development\" OR \"model integration\") NOT (\"chemical\" OR \"industry\" OR \"cancer\" OR \"gene\")) AND WC=(\"ENVIRONMENTAL SCIENCES\" OR \"WATER RESOURCES\" OR \"ENGINEERING ENVIRONMENTAL\" OR \"INTERDISCIPLINARY APPLICATIONS\")']"
      ]
     },
     "execution_count": 6,
     "metadata": {},
     "output_type": "execute_result"
    }
   ],
   "source": [
    "topics"
   ]
  },
  {
   "cell_type": "markdown",
   "metadata": {},
   "source": [
    "See [field tags](http://ipscience-help.thomsonreuters.com/wosWebServicesLite/WebServiceOperationsGroup/WebServiceOperations/g2/user_query/field_tags/WOSfieldTags.html) to help construct search parameters\n",
    "    "
   ]
  },
  {
   "cell_type": "markdown",
   "metadata": {},
   "source": [
    "## Send query to Clarivate Web of Science servers"
   ]
  },
  {
   "cell_type": "code",
   "execution_count": 7,
   "metadata": {
    "scrolled": true
   },
   "outputs": [
    {
     "name": "stdout",
     "output_type": "stream",
     "text": [
      "Authenticated (SID: 5BUt4fIb2BxaRpJe7cd)\n"
     ]
    },
    {
     "name": "stderr",
     "output_type": "stream",
     "text": [
      "c:\\userdata\\takuyai\\owncloud\\projects\\wosis\\wosis\\query.py:187: UserWarning: Using cached results...\n",
      "  warnings.warn(\"Using cached results...\")\n"
     ]
    },
    {
     "name": "stdout",
     "output_type": "stream",
     "text": [
      "Got 8966 records\n",
      "Wall time: 4.4 s\n"
     ]
    }
   ],
   "source": [
    "%%time\n",
    "overwrite = False\n",
    "result_hash = wosis.query(topics, overwrite, wos_config)"
   ]
  },
  {
   "cell_type": "code",
   "execution_count": 8,
   "metadata": {
    "collapsed": true
   },
   "outputs": [],
   "source": [
    "import json\n",
    "\n",
    "with open('tmp/hash_to_query.txt', 'w') as file:\n",
    "     file.write(json.dumps(result_hash, indent=2))  # use `json.loads` to do the reverse"
   ]
  },
  {
   "cell_type": "code",
   "execution_count": 9,
   "metadata": {
    "collapsed": true
   },
   "outputs": [],
   "source": [
    "query_id = list(result_hash.keys())[0]"
   ]
  },
  {
   "cell_type": "code",
   "execution_count": 10,
   "metadata": {},
   "outputs": [
    {
     "name": "stdout",
     "output_type": "stream",
     "text": [
      "Corpora consists of 8286 Publications\n"
     ]
    }
   ],
   "source": [
    "RC = mk.RecordCollection(f\"tmp/{query_id}.txt\")\n",
    "RC = RC.yearSplit(0, 2017)\n",
    "print(\"Corpora consists of\", len(RC), \"Publications\")"
   ]
  },
  {
   "cell_type": "code",
   "execution_count": 11,
   "metadata": {
    "collapsed": true
   },
   "outputs": [],
   "source": [
    "df = pd.DataFrame(RC.forNLP(extraColumns=[\"AU\", \"SO\", \"PY\", \"DE\", \"CR\"]))\n",
    "df.to_csv(f\"data/{query_id}.csv\")"
   ]
  },
  {
   "cell_type": "code",
   "execution_count": null,
   "metadata": {
    "collapsed": true
   },
   "outputs": [],
   "source": []
  }
 ],
 "metadata": {
  "kernelspec": {
   "display_name": "Python (Biblio)",
   "language": "python",
   "name": "biblio"
  },
  "language_info": {
   "codemirror_mode": {
    "name": "ipython",
    "version": 3
   },
   "file_extension": ".py",
   "mimetype": "text/x-python",
   "name": "python",
   "nbconvert_exporter": "python",
   "pygments_lexer": "ipython3",
   "version": "3.6.6"
  }
 },
 "nbformat": 4,
 "nbformat_minor": 2
}
