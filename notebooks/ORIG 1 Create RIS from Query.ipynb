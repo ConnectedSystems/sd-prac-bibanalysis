{
 "cells": [
  {
   "cell_type": "code",
   "execution_count": 2,
   "metadata": {
    "collapsed": true
   },
   "outputs": [],
   "source": [
    "%reload_ext autoreload\n",
    "%autoreload 2"
   ]
  },
  {
   "cell_type": "code",
   "execution_count": 4,
   "metadata": {
    "collapsed": true
   },
   "outputs": [],
   "source": [
    "import wosis\n",
    "import pandas as pd\n",
    "import metaknowledge as mk"
   ]
  },
  {
   "cell_type": "code",
   "execution_count": 5,
   "metadata": {
    "collapsed": true
   },
   "outputs": [],
   "source": [
    "wos_config = wosis.load_config(\"config.yml\")"
   ]
  },
  {
   "cell_type": "code",
   "execution_count": 6,
   "metadata": {
    "collapsed": true
   },
   "outputs": [],
   "source": [
    "# dollar sign ($) is a wildcard used to match British and American spellings\n",
    "# e.g. flavo$r matches both flavour and flavor\n",
    "# see https://images.webofknowledge.com/images/help/WOS/hs_wildcards.html\n",
    "# http://ipscience-help.thomsonreuters.com/wosWebServicesLite/WebServiceOperationsGroup/WebServiceOperations/g2/user_query.html\n",
    "search_terms = {\n",
    "    \"inclusive_kw\": (\"Integrated Assessment and Model$ing\", \"integrated environmental model$ing\", \n",
    "                     \"integrated assessment\", \"integrated model$ing\", \"environmental model$ing\", \n",
    "                     \"hydrological model$ing\", \"ecological model$ing\", \"ecosystem model$ing\", \"model$ing framework\",\n",
    "                     \"framework development\", \"model integration\"),\n",
    "    \"exclusive_kw\": (\"chemical\", \"industry\", \"cancer\", \"gene\"),\n",
    "    \"exclusive_jo\": ('PSYCHOL*', 'BIOINFO*', 'BUSINESS INFORMATION*', 'MANUFACTURING*', \n",
    "                     'BIOLOGICALLY INSPIRED COGNITIVE ARCHITECTURES*', 'COMPLEXITY*', 'INDUSTRIAL ECOLOGY*',\n",
    "                     'QUANTITATIVE FINANCE', 'VIRTUAL REALITY*', 'COMMUNICATION NETWORKS*', 'COMPUTER METHODS AND PROGRAMS IN BIOMEDICINE',\n",
    "                     'ARTIFICIAL INTELLIGENCE IN EDUCATION', 'INSURANCE MATHEMATICS & ECONOMICS', 'ASTIN BULLETIN', \n",
    "                     'COMMUNICATION TECHNOLOGY', 'COMPUTERS & STRUCTURES', 'CHEMOSPHERE', 'VISUAL COMPUTING',\n",
    "                     'INTERNATIONAL CONFERENCE ON COMPUTER SCIENCE AND APPLICATIONS', 'WASTE MANAGEMENT*', 'OPTIMIZATION AND ENGINEERING',\n",
    "                     'COMPUTERS & OPERATIONS RESEARCH'),\n",
    "    \"subject_area\": (\"ENVIRONMENTAL SCIENCES\", \"WATER RESOURCES\", \"ENGINEERING ENVIRONMENTAL\", \"INTERDISCIPLINARY APPLICATIONS\"),\n",
    "}"
   ]
  },
  {
   "cell_type": "code",
   "execution_count": 7,
   "metadata": {
    "collapsed": true
   },
   "outputs": [],
   "source": [
    "topics = [wosis.build_query(search_terms), ]"
   ]
  },
  {
   "cell_type": "code",
   "execution_count": 8,
   "metadata": {},
   "outputs": [
    {
     "data": {
      "text/plain": [
       "['TS=((\"Integrated Assessment and Model$ing\" OR \"integrated environmental model$ing\" OR \"integrated assessment\" OR \"integrated model$ing\" OR \"environmental model$ing\" OR \"hydrological model$ing\" OR \"ecological model$ing\" OR \"ecosystem model$ing\" OR \"model$ing framework\" OR \"framework development\" OR \"model integration\") NOT (\"chemical\" OR \"industry\" OR \"cancer\" OR \"gene\")) NOT SO=(\"PSYCHOL*\" OR \"BIOINFO*\" OR \"BUSINESS INFORMATION*\" OR \"MANUFACTURING*\" OR \"BIOLOGICALLY INSPIRED COGNITIVE ARCHITECTURES*\" OR \"COMPLEXITY*\" OR \"INDUSTRIAL ECOLOGY*\" OR \"QUANTITATIVE FINANCE\" OR \"VIRTUAL REALITY*\" OR \"COMMUNICATION NETWORKS*\" OR \"COMPUTER METHODS AND PROGRAMS IN BIOMEDICINE\" OR \"ARTIFICIAL INTELLIGENCE IN EDUCATION\" OR \"INSURANCE MATHEMATICS & ECONOMICS\" OR \"ASTIN BULLETIN\" OR \"COMMUNICATION TECHNOLOGY\" OR \"COMPUTERS & STRUCTURES\" OR \"CHEMOSPHERE\" OR \"VISUAL COMPUTING\" OR \"INTERNATIONAL CONFERENCE ON COMPUTER SCIENCE AND APPLICATIONS\" OR \"WASTE MANAGEMENT*\" OR \"OPTIMIZATION AND ENGINEERING\" OR \"COMPUTERS & OPERATIONS RESEARCH\") AND WC=(\"ENVIRONMENTAL SCIENCES\" OR \"WATER RESOURCES\" OR \"ENGINEERING ENVIRONMENTAL\" OR \"INTERDISCIPLINARY APPLICATIONS\")']"
      ]
     },
     "execution_count": 8,
     "metadata": {},
     "output_type": "execute_result"
    }
   ],
   "source": [
    "topics"
   ]
  },
  {
   "cell_type": "markdown",
   "metadata": {},
   "source": [
    "See [field tags](http://ipscience-help.thomsonreuters.com/wosWebServicesLite/WebServiceOperationsGroup/WebServiceOperations/g2/user_query/field_tags/WOSfieldTags.html) to help construct search parameters\n",
    "    "
   ]
  },
  {
   "cell_type": "markdown",
   "metadata": {},
   "source": [
    "## Send query to Clarivate Web of Science servers"
   ]
  },
  {
   "cell_type": "code",
   "execution_count": 9,
   "metadata": {
    "scrolled": true
   },
   "outputs": [
    {
     "name": "stdout",
     "output_type": "stream",
     "text": [
      "Authenticated (SID: 8EeXiW8kXX9LghbPeZK)\n"
     ]
    },
    {
     "name": "stderr",
     "output_type": "stream",
     "text": [
      "D:\\windows_utils\\ownCloud\\projects\\wosis\\wosis\\query.py:302: UserWarning: Using cached results...\n",
      "  warnings.warn(\"Using cached results...\")\n"
     ]
    },
    {
     "name": "stdout",
     "output_type": "stream",
     "text": [
      "Got 8999 records\n",
      "Wall time: 9.34 s\n"
     ]
    }
   ],
   "source": [
    "%%time\n",
    "overwrite = False  # Do not overwrite previous identical search if it exists\n",
    "id_to_query, query_recs = wosis.query(topics, overwrite, wos_config)"
   ]
  },
  {
   "cell_type": "code",
   "execution_count": 10,
   "metadata": {},
   "outputs": [],
   "source": [
    "import json\n",
    "\n",
    "with open('tmp/hash_to_query.txt', 'w') as file:\n",
    "     file.write(json.dumps(id_to_query, indent=2))  # use `json.loads` to do the reverse"
   ]
  },
  {
   "cell_type": "code",
   "execution_count": 11,
   "metadata": {
    "collapsed": true
   },
   "outputs": [],
   "source": [
    "query_id = list(id_to_query)[0]"
   ]
  },
  {
   "cell_type": "code",
   "execution_count": 13,
   "metadata": {},
   "outputs": [
    {
     "name": "stdout",
     "output_type": "stream",
     "text": [
      "Corpora consists of 8201 Publications\n"
     ]
    }
   ],
   "source": [
    "# RC = list(query_recs.keys())[0]\n",
    "RC = mk.RecordCollection(\"tmp/{}.txt\".format(query_id))\n",
    "RC = RC.yearSplit(0, 2017)\n",
    "print(\"Corpora consists of\", len(RC), \"Publications\")"
   ]
  },
  {
   "cell_type": "markdown",
   "metadata": {},
   "source": [
    "# Create representative data store\n",
    "\n",
    "Dataset for publication cannot include WoS generated keywords or abstract text. It must also include attribution text."
   ]
  },
  {
   "cell_type": "code",
   "execution_count": 14,
   "metadata": {
    "collapsed": true
   },
   "outputs": [],
   "source": [
    "from datetime import datetime\n",
    "\n",
    "corpora = RC.forNLP(extraColumns=[\"AU\", \"SO\", \"DE\"])\n",
    "corpora_df = pd.DataFrame(corpora)\n",
    "corpora_df.drop([\"keywords\", \"abstract\"], inplace=True, axis=1)\n",
    "\n",
    "assert len(corpora_df.id.unique()) == len(corpora_df.id), \"Duplicate records found!\"\n",
    "\n",
    "corpora_fn = \"../data/{}.csv\".format(query_id)\n",
    "with open(corpora_fn, 'w') as fn:\n",
    "    fn.write(\"# Data from Clarivate Analytics' Web of Science, retrieved 1 December 2018\\n\")\n",
    "    fn.write(\"# This file generated on {}\\n\".format(datetime.now().strftime(\"%Y-%m-%d %H:%M:%S\")))\n",
    "    corpora_df.index.name = \"item\"\n",
    "    corpora_df.to_csv(fn)"
   ]
  },
  {
   "cell_type": "code",
   "execution_count": null,
   "metadata": {
    "collapsed": true
   },
   "outputs": [],
   "source": []
  }
 ],
 "metadata": {
  "kernelspec": {
   "display_name": "Python (Biblio)",
   "language": "python",
   "name": "biblio"
  },
  "language_info": {
   "codemirror_mode": {
    "name": "ipython",
    "version": 3
   },
   "file_extension": ".py",
   "mimetype": "text/x-python",
   "name": "python",
   "nbconvert_exporter": "python",
   "pygments_lexer": "ipython3",
   "version": "3.6.6"
  }
 },
 "nbformat": 4,
 "nbformat_minor": 2
}
