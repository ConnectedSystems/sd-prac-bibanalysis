{
 "cells": [
  {
   "cell_type": "markdown",
   "metadata": {},
   "source": [
    "In this notebook we identify IEM related publications with a topic model."
   ]
  },
  {
   "cell_type": "code",
   "execution_count": 1,
   "metadata": {},
   "outputs": [],
   "source": [
    "%run \"Common Setup.ipynb\""
   ]
  },
  {
   "cell_type": "code",
   "execution_count": 2,
   "metadata": {},
   "outputs": [],
   "source": [
    "filtered_rc = wosis.load_query_results('{}/initial_filtered_corpora.txt'.format(TMP_DIR))\n",
    "num_records = []"
   ]
  },
  {
   "cell_type": "code",
   "execution_count": 3,
   "metadata": {},
   "outputs": [
    {
     "name": "stdout",
     "output_type": "stream",
     "text": [
      "Topic 1: model framework integr environment develop approach process support design assess\n",
      "Topic 2: climat chang climate change impact scenario futur global project adapt\n",
      "Topic 3: flow runoff river hydrolog basin catchment model wa simul hydrological\n",
      "Topic 4: water irrig groundwat resourc manag demand qualiti river resources basin\n",
      "Topic 5: land use cover chang agricultur scenario spatial urban change crop\n",
      "Topic 6: emiss air energi carbon cost pollut emissions polici reduct gas\n",
      "Topic 7: flood risk event forecast urban rainfal peak extrem hazard river\n",
      "Topic 8: soil moistur moisture spatial content wa properti surfac field scale\n",
      "Topic 9: ecosystem forest carbon speci ecolog habitat fish area lake veget\n",
      "Topic 10: data model uncertainti use method paramet spatial estim hydrolog predict\n"
     ]
    }
   ],
   "source": [
    "# Cache results to a specific file for later reuse\n",
    "iem_topics = wosis.find_topics(filtered_rc, cache_as='{}/iem_topic.pkl'.format(TMP_DIR))"
   ]
  },
  {
   "cell_type": "markdown",
   "metadata": {},
   "source": [
    "Based on the above results Topic 1 is selected to represent modeling frameworks"
   ]
  },
  {
   "cell_type": "code",
   "execution_count": 4,
   "metadata": {},
   "outputs": [],
   "source": [
    "framework_pubs = iem_topics.get_topic_by_id(1)\n",
    "iem_frameworks_rc = wosis.extract_recs(framework_pubs.id, filtered_rc)"
   ]
  },
  {
   "cell_type": "code",
   "execution_count": 5,
   "metadata": {},
   "outputs": [
    {
     "data": {
      "image/png": "[encoded data removed]",
      "text/plain": [
       "<Figure size 648x432 with 1 Axes>"
      ]
     },
     "metadata": {
      "needs_background": "light"
     },
     "output_type": "display_data"
    }
   ],
   "source": [
    "wos_plot.plot_pub_trend(iem_frameworks_rc, title='IEM Framework Sub-corpora', \n",
    "                        save_plot_fn='{}/iem_framework_subcorpora'.format(FIG_DIR))"
   ]
  },
  {
   "cell_type": "code",
   "execution_count": 6,
   "metadata": {},
   "outputs": [
    {
     "data": {
      "text/html": [
       "<div>\n",
       "<style scoped>\n",
       "    .dataframe tbody tr th:only-of-type {\n",
       "        vertical-align: middle;\n",
       "    }\n",
       "\n",
       "    .dataframe tbody tr th {\n",
       "        vertical-align: top;\n",
       "    }\n",
       "\n",
       "    .dataframe thead th {\n",
       "        text-align: right;\n",
       "    }\n",
       "</style>\n",
       "<table border=\"1\" class=\"dataframe\">\n",
       "  <thead>\n",
       "    <tr style=\"text-align: right;\">\n",
       "      <th></th>\n",
       "      <th>AU</th>\n",
       "      <th>SO</th>\n",
       "      <th>copyright</th>\n",
       "      <th>title</th>\n",
       "      <th>year</th>\n",
       "      <th>DOI link</th>\n",
       "    </tr>\n",
       "  </thead>\n",
       "  <tbody>\n",
       "    <tr>\n",
       "      <th>495</th>\n",
       "      <td>MCKENNA, N</td>\n",
       "      <td>SIMULATION</td>\n",
       "      <td></td>\n",
       "      <td>ENVIRONMENTAL MODELING</td>\n",
       "      <td>1973</td>\n",
       "      <td>https://dx.doi.org/10.1177/003754977302000201</td>\n",
       "    </tr>\n",
       "    <tr>\n",
       "      <th>1236</th>\n",
       "      <td>HOUSE, PW</td>\n",
       "      <td>SIMULATION</td>\n",
       "      <td></td>\n",
       "      <td>ENVIRONMENTAL MODELING VS CHICKEN-SOUP APPROAC...</td>\n",
       "      <td>1973</td>\n",
       "      <td>https://dx.doi.org/10.1177/003754977302000601</td>\n",
       "    </tr>\n",
       "  </tbody>\n",
       "</table>\n",
       "</div>"
      ],
      "text/plain": [
       "              AU          SO copyright  \\\n",
       "495   MCKENNA, N  SIMULATION             \n",
       "1236   HOUSE, PW  SIMULATION             \n",
       "\n",
       "                                                  title  year  \\\n",
       "495                              ENVIRONMENTAL MODELING  1973   \n",
       "1236  ENVIRONMENTAL MODELING VS CHICKEN-SOUP APPROAC...  1973   \n",
       "\n",
       "                                           DOI link  \n",
       "495   https://dx.doi.org/10.1177/003754977302000201  \n",
       "1236  https://dx.doi.org/10.1177/003754977302000601  "
      ]
     },
     "execution_count": 6,
     "metadata": {},
     "output_type": "execute_result"
    }
   ],
   "source": [
    "iem_frameworks_df = wosis.rc_to_df(iem_frameworks_rc)\n",
    "linked = wosis.link_to_pub(iem_frameworks_df)\n",
    "linked.loc[linked.year == min(linked.year), ~linked.columns.isin(hide_columns)]"
   ]
  },
  {
   "cell_type": "code",
   "execution_count": 7,
   "metadata": {},
   "outputs": [
    {
     "data": {
      "text/html": [
       "<div>\n",
       "<style scoped>\n",
       "    .dataframe tbody tr th:only-of-type {\n",
       "        vertical-align: middle;\n",
       "    }\n",
       "\n",
       "    .dataframe tbody tr th {\n",
       "        vertical-align: top;\n",
       "    }\n",
       "\n",
       "    .dataframe thead th {\n",
       "        text-align: right;\n",
       "    }\n",
       "</style>\n",
       "<table border=\"1\" class=\"dataframe\">\n",
       "  <thead>\n",
       "    <tr style=\"text-align: right;\">\n",
       "      <th></th>\n",
       "      <th>AU</th>\n",
       "      <th>SO</th>\n",
       "      <th>copyright</th>\n",
       "      <th>title</th>\n",
       "      <th>year</th>\n",
       "      <th>DOI link</th>\n",
       "    </tr>\n",
       "  </thead>\n",
       "  <tbody>\n",
       "    <tr>\n",
       "      <th>534</th>\n",
       "      <td>MARNICIO, RJ|RUBIN, ES</td>\n",
       "      <td>MATHEMATICAL AND COMPUTER MODELLING</td>\n",
       "      <td></td>\n",
       "      <td>TECHNICAL MODELING FOR POLICY MAKING - INTEGRA...</td>\n",
       "      <td>1988</td>\n",
       "      <td>https://dx.doi.org/10.1016/0895-7177(88)90655-3</td>\n",
       "    </tr>\n",
       "  </tbody>\n",
       "</table>\n",
       "</div>"
      ],
      "text/plain": [
       "                         AU                                   SO copyright  \\\n",
       "534  MARNICIO, RJ|RUBIN, ES  MATHEMATICAL AND COMPUTER MODELLING             \n",
       "\n",
       "                                                 title  year  \\\n",
       "534  TECHNICAL MODELING FOR POLICY MAKING - INTEGRA...  1988   \n",
       "\n",
       "                                            DOI link  \n",
       "534  https://dx.doi.org/10.1016/0895-7177(88)90655-3  "
      ]
     },
     "execution_count": 7,
     "metadata": {},
     "output_type": "execute_result"
    }
   ],
   "source": [
    "after_drought = linked.loc[linked.year == 1988, ~linked.columns.isin(hide_columns)]\n",
    "after_drought"
   ]
  },
  {
   "cell_type": "code",
   "execution_count": 8,
   "metadata": {},
   "outputs": [
    {
     "data": {
      "image/png": "[encoded data removed]",
      "text/plain": [
       "<Figure size 864x720 with 5 Axes>"
      ]
     },
     "metadata": {
      "needs_background": "light"
     },
     "output_type": "display_data"
    }
   ],
   "source": [
    "wos_plot.plot_journal_pub_trend(iem_frameworks_rc, title='IEM Framework Publications by Journal', top_n=5)"
   ]
  },
  {
   "cell_type": "code",
   "execution_count": 9,
   "metadata": {},
   "outputs": [
    {
     "data": {
      "image/png": "[encoded data removed]",
      "text/plain": [
       "<Figure size 864x432 with 1 Axes>"
      ]
     },
     "metadata": {
      "needs_background": "light"
     },
     "output_type": "display_data"
    }
   ],
   "source": [
    "wos_plot.plot_pubs_per_journal(iem_frameworks_rc, title='Top 5 IEM Framework Journals', \n",
    "                               top_n=5, annotate=True,\n",
    "                               save_plot_fn='{}/iem_framework_subcorpora_top5_journals'.format(FIG_DIR)\n",
    "                              )"
   ]
  },
  {
   "cell_type": "code",
   "execution_count": 10,
   "metadata": {},
   "outputs": [
    {
     "data": {
      "text/plain": [
       "['SCALE ISSUES IN HYDROLOGICAL MODELING - A REVIEW',\n",
       " 'Examining the global environmental impact of regional consumption activities - Part 2: Review of input-output models for the assessment of environmental impacts embodied in trade',\n",
       " 'Ten iterative steps in development and evaluation of environmental models',\n",
       " 'Categorising tools for sustainability assessment',\n",
       " 'Assessing the vulnerability of social-environmental systems',\n",
       " 'Biotic ligand model, a flexible tool for developing site-specific water quality guidelines for metals',\n",
       " 'Biotic ligand model of the acute toxicity of metals. 2. Application to acute copper toxicity in freshwater fish and Daphnia',\n",
       " 'The tokamak Monte Carlo fast ion module NUBEAM in the National Transport Code Collaboration library',\n",
       " 'A neuro-fuzzy computing technique for modeling hydrological time series',\n",
       " 'Environmental copper: Its dynamics and human exposure issues']"
      ]
     },
     "execution_count": 10,
     "metadata": {},
     "output_type": "execute_result"
    }
   ],
   "source": [
    "cited_iem_frameworks = wosis.get_num_citations(iem_frameworks_rc, WOS_CONFIG, \n",
    "                                               cache_as='{}/iem_framework_citations.csv'.format(TMP_DIR))\n",
    "\n",
    "cited_iem_frameworks.head(10)['title'].tolist()"
   ]
  },
  {
   "cell_type": "code",
   "execution_count": 12,
   "metadata": {
    "scrolled": false
   },
   "outputs": [
    {
     "data": {
      "text/html": [
       "<div>\n",
       "<style scoped>\n",
       "    .dataframe tbody tr th:only-of-type {\n",
       "        vertical-align: middle;\n",
       "    }\n",
       "\n",
       "    .dataframe tbody tr th {\n",
       "        vertical-align: top;\n",
       "    }\n",
       "\n",
       "    .dataframe thead th {\n",
       "        text-align: right;\n",
       "    }\n",
       "</style>\n",
       "<table border=\"1\" class=\"dataframe\">\n",
       "  <thead>\n",
       "    <tr style=\"text-align: right;\">\n",
       "      <th></th>\n",
       "      <th>AU</th>\n",
       "      <th>SO</th>\n",
       "      <th>copyright</th>\n",
       "      <th>title</th>\n",
       "      <th>year</th>\n",
       "      <th>citations</th>\n",
       "      <th>Avg. Citations</th>\n",
       "    </tr>\n",
       "  </thead>\n",
       "  <tbody>\n",
       "    <tr>\n",
       "      <th>58</th>\n",
       "      <td>Samir, K. C.|Lutz, Wolfgang</td>\n",
       "      <td>GLOBAL ENVIRONMENTAL CHANGE-HUMAN AND POLICY D...</td>\n",
       "      <td>Elsevier Ltd. This is an open access article ...</td>\n",
       "      <td>The human core of the shared socioeconomic pat...</td>\n",
       "      <td>2017</td>\n",
       "      <td>105</td>\n",
       "      <td>52.50</td>\n",
       "    </tr>\n",
       "    <tr>\n",
       "      <th>1</th>\n",
       "      <td>Wiedmann, Thomas|Lenzen, Manfred|Turner, Karen...</td>\n",
       "      <td>ECOLOGICAL ECONOMICS</td>\n",
       "      <td>(c) 2006 Elsevier B.V. All rights reserved.</td>\n",
       "      <td>Examining the global environmental impact of r...</td>\n",
       "      <td>2007</td>\n",
       "      <td>623</td>\n",
       "      <td>51.92</td>\n",
       "    </tr>\n",
       "    <tr>\n",
       "      <th>39</th>\n",
       "      <td>Pianosi, Francesca|Beven, Keith|Freer, Jim|Hal...</td>\n",
       "      <td>ENVIRONMENTAL MODELLING &amp; SOFTWARE</td>\n",
       "      <td>Elsevier Ltd. This is an open access article ...</td>\n",
       "      <td>Sensitivity analysis of environmental models: ...</td>\n",
       "      <td>2016</td>\n",
       "      <td>138</td>\n",
       "      <td>46.00</td>\n",
       "    </tr>\n",
       "    <tr>\n",
       "      <th>15</th>\n",
       "      <td>Kelly (Letcher), Rebecca A.|Jakeman, Anthony J...</td>\n",
       "      <td>ENVIRONMENTAL MODELLING &amp; SOFTWARE</td>\n",
       "      <td>Elsevier Ltd. All rights reserved.</td>\n",
       "      <td>Selecting among five common modelling approach...</td>\n",
       "      <td>2013</td>\n",
       "      <td>266</td>\n",
       "      <td>44.33</td>\n",
       "    </tr>\n",
       "    <tr>\n",
       "      <th>3</th>\n",
       "      <td>Ness, Barry|Urbel-Piirsalu, Evelin|Anderberg, ...</td>\n",
       "      <td>ECOLOGICAL ECONOMICS</td>\n",
       "      <td>(c) 2006 Elsevier B.V. All rights reserved.</td>\n",
       "      <td>Categorising tools for sustainability assessment</td>\n",
       "      <td>2007</td>\n",
       "      <td>476</td>\n",
       "      <td>39.67</td>\n",
       "    </tr>\n",
       "    <tr>\n",
       "      <th>2</th>\n",
       "      <td>Jakeman, AJ|Letcher, RA|Norton, JP</td>\n",
       "      <td>ENVIRONMENTAL MODELLING &amp; SOFTWARE</td>\n",
       "      <td>Elsevier Ltd. All rights reserved.</td>\n",
       "      <td>Ten iterative steps in development and evaluat...</td>\n",
       "      <td>2006</td>\n",
       "      <td>512</td>\n",
       "      <td>39.38</td>\n",
       "    </tr>\n",
       "    <tr>\n",
       "      <th>16</th>\n",
       "      <td>Neteler, Markus|Bowman, M. Hamish|Landa, Marti...</td>\n",
       "      <td>ENVIRONMENTAL MODELLING &amp; SOFTWARE</td>\n",
       "      <td>Elsevier Ltd. All rights reserved.</td>\n",
       "      <td>GRASS GIS: A multi-purpose open source GIS</td>\n",
       "      <td>2012</td>\n",
       "      <td>266</td>\n",
       "      <td>38.00</td>\n",
       "    </tr>\n",
       "    <tr>\n",
       "      <th>23</th>\n",
       "      <td>Laniak, Gerard F.|Olchin, Gabriel|Goodall, Jon...</td>\n",
       "      <td>ENVIRONMENTAL MODELLING &amp; SOFTWARE</td>\n",
       "      <td>Published by Elsevier Ltd.</td>\n",
       "      <td>Integrated environmental modeling: A vision an...</td>\n",
       "      <td>2013</td>\n",
       "      <td>221</td>\n",
       "      <td>36.83</td>\n",
       "    </tr>\n",
       "    <tr>\n",
       "      <th>20</th>\n",
       "      <td>Toth, Gabor|van der Holst, Bart|Sokolov, Igor ...</td>\n",
       "      <td>JOURNAL OF COMPUTATIONAL PHYSICS</td>\n",
       "      <td>(C) 2011 Elsevier Inc. All rights reserved.</td>\n",
       "      <td>Adaptive numerical algorithms in space weather...</td>\n",
       "      <td>2012</td>\n",
       "      <td>253</td>\n",
       "      <td>36.14</td>\n",
       "    </tr>\n",
       "    <tr>\n",
       "      <th>13</th>\n",
       "      <td>Bazilian, Morgan|Rogner, Holger|Howells, Mark|...</td>\n",
       "      <td>ENERGY POLICY</td>\n",
       "      <td>Elsevier Ltd. All rights reserved.</td>\n",
       "      <td>Considering the energy, water and food nexus: ...</td>\n",
       "      <td>2011</td>\n",
       "      <td>272</td>\n",
       "      <td>34.00</td>\n",
       "    </tr>\n",
       "    <tr>\n",
       "      <th>63</th>\n",
       "      <td>Voinov, Alexey|Kolagani, Nagesh|McCall, Michae...</td>\n",
       "      <td>ENVIRONMENTAL MODELLING &amp; SOFTWARE</td>\n",
       "      <td>Elsevier Ltd. All rights reserved.</td>\n",
       "      <td>Modelling with stakeholders - Next generation</td>\n",
       "      <td>2016</td>\n",
       "      <td>100</td>\n",
       "      <td>33.33</td>\n",
       "    </tr>\n",
       "    <tr>\n",
       "      <th>0</th>\n",
       "      <td>BLOSCHL, G|SIVAPALAN, M</td>\n",
       "      <td>HYDROLOGICAL PROCESSES</td>\n",
       "      <td>NaN</td>\n",
       "      <td>SCALE ISSUES IN HYDROLOGICAL MODELING - A REVIEW</td>\n",
       "      <td>1995</td>\n",
       "      <td>745</td>\n",
       "      <td>31.04</td>\n",
       "    </tr>\n",
       "    <tr>\n",
       "      <th>4</th>\n",
       "      <td>Eakin, Hallie|Luers, Amy Lynd</td>\n",
       "      <td>ANNUAL REVIEW OF ENVIRONMENT AND RESOURCES</td>\n",
       "      <td>NaN</td>\n",
       "      <td>Assessing the vulnerability of social-environm...</td>\n",
       "      <td>2006</td>\n",
       "      <td>401</td>\n",
       "      <td>30.85</td>\n",
       "    </tr>\n",
       "    <tr>\n",
       "      <th>45</th>\n",
       "      <td>Uusitalo, Laura|Lehikoinen, Annukka|Helle, Ina...</td>\n",
       "      <td>ENVIRONMENTAL MODELLING &amp; SOFTWARE</td>\n",
       "      <td>Published by Elsevier Ltd.</td>\n",
       "      <td>An overview of methods to evaluate uncertainty...</td>\n",
       "      <td>2015</td>\n",
       "      <td>123</td>\n",
       "      <td>30.75</td>\n",
       "    </tr>\n",
       "    <tr>\n",
       "      <th>55</th>\n",
       "      <td>Clark, Martyn P.|Nijssen, Bart|Lundquist, Jess...</td>\n",
       "      <td>WATER RESOURCES RESEARCH</td>\n",
       "      <td>NaN</td>\n",
       "      <td>A unified approach for process-based hydrologi...</td>\n",
       "      <td>2015</td>\n",
       "      <td>107</td>\n",
       "      <td>26.75</td>\n",
       "    </tr>\n",
       "    <tr>\n",
       "      <th>148</th>\n",
       "      <td>Matous, Karel|Geers, Marc G. D.|Kouznetsova, V...</td>\n",
       "      <td>JOURNAL OF COMPUTATIONAL PHYSICS</td>\n",
       "      <td>(C) 2016 Elsevier Inc. All rights reserved.</td>\n",
       "      <td>A review of predictive nonlinear theories for ...</td>\n",
       "      <td>2017</td>\n",
       "      <td>52</td>\n",
       "      <td>26.00</td>\n",
       "    </tr>\n",
       "    <tr>\n",
       "      <th>28</th>\n",
       "      <td>Krueger, Tobias|Page, Trevor|Hubacek, Klaus|Sm...</td>\n",
       "      <td>ENVIRONMENTAL MODELLING &amp; SOFTWARE</td>\n",
       "      <td>Elsevier Ltd. All rights reserved.</td>\n",
       "      <td>The role of expert opinion in environmental mo...</td>\n",
       "      <td>2012</td>\n",
       "      <td>179</td>\n",
       "      <td>25.57</td>\n",
       "    </tr>\n",
       "    <tr>\n",
       "      <th>5</th>\n",
       "      <td>Niyogi, S|Wood, CM</td>\n",
       "      <td>ENVIRONMENTAL SCIENCE &amp; TECHNOLOGY</td>\n",
       "      <td>NaN</td>\n",
       "      <td>Biotic ligand model, a flexible tool for devel...</td>\n",
       "      <td>2004</td>\n",
       "      <td>381</td>\n",
       "      <td>25.40</td>\n",
       "    </tr>\n",
       "    <tr>\n",
       "      <th>10</th>\n",
       "      <td>Liu, Jianguo|Dietz, Thomas|Carpenter, Stephen ...</td>\n",
       "      <td>AMBIO</td>\n",
       "      <td>NaN</td>\n",
       "      <td>Coupled human and natural systems</td>\n",
       "      <td>2007</td>\n",
       "      <td>304</td>\n",
       "      <td>25.33</td>\n",
       "    </tr>\n",
       "    <tr>\n",
       "      <th>12</th>\n",
       "      <td>Antiga, Luca|Piccinelli, Marina|Botti, Lorenzo...</td>\n",
       "      <td>MEDICAL &amp; BIOLOGICAL ENGINEERING &amp; COMPUTING</td>\n",
       "      <td>NaN</td>\n",
       "      <td>An image-based modeling framework for patient-...</td>\n",
       "      <td>2008</td>\n",
       "      <td>274</td>\n",
       "      <td>24.91</td>\n",
       "    </tr>\n",
       "  </tbody>\n",
       "</table>\n",
       "</div>"
      ],
      "text/plain": [
       "                                                    AU  \\\n",
       "58                         Samir, K. C.|Lutz, Wolfgang   \n",
       "1    Wiedmann, Thomas|Lenzen, Manfred|Turner, Karen...   \n",
       "39   Pianosi, Francesca|Beven, Keith|Freer, Jim|Hal...   \n",
       "15   Kelly (Letcher), Rebecca A.|Jakeman, Anthony J...   \n",
       "3    Ness, Barry|Urbel-Piirsalu, Evelin|Anderberg, ...   \n",
       "2                   Jakeman, AJ|Letcher, RA|Norton, JP   \n",
       "16   Neteler, Markus|Bowman, M. Hamish|Landa, Marti...   \n",
       "23   Laniak, Gerard F.|Olchin, Gabriel|Goodall, Jon...   \n",
       "20   Toth, Gabor|van der Holst, Bart|Sokolov, Igor ...   \n",
       "13   Bazilian, Morgan|Rogner, Holger|Howells, Mark|...   \n",
       "63   Voinov, Alexey|Kolagani, Nagesh|McCall, Michae...   \n",
       "0                              BLOSCHL, G|SIVAPALAN, M   \n",
       "4                        Eakin, Hallie|Luers, Amy Lynd   \n",
       "45   Uusitalo, Laura|Lehikoinen, Annukka|Helle, Ina...   \n",
       "55   Clark, Martyn P.|Nijssen, Bart|Lundquist, Jess...   \n",
       "148  Matous, Karel|Geers, Marc G. D.|Kouznetsova, V...   \n",
       "28   Krueger, Tobias|Page, Trevor|Hubacek, Klaus|Sm...   \n",
       "5                                   Niyogi, S|Wood, CM   \n",
       "10   Liu, Jianguo|Dietz, Thomas|Carpenter, Stephen ...   \n",
       "12   Antiga, Luca|Piccinelli, Marina|Botti, Lorenzo...   \n",
       "\n",
       "                                                    SO  \\\n",
       "58   GLOBAL ENVIRONMENTAL CHANGE-HUMAN AND POLICY D...   \n",
       "1                                 ECOLOGICAL ECONOMICS   \n",
       "39                  ENVIRONMENTAL MODELLING & SOFTWARE   \n",
       "15                  ENVIRONMENTAL MODELLING & SOFTWARE   \n",
       "3                                 ECOLOGICAL ECONOMICS   \n",
       "2                   ENVIRONMENTAL MODELLING & SOFTWARE   \n",
       "16                  ENVIRONMENTAL MODELLING & SOFTWARE   \n",
       "23                  ENVIRONMENTAL MODELLING & SOFTWARE   \n",
       "20                    JOURNAL OF COMPUTATIONAL PHYSICS   \n",
       "13                                       ENERGY POLICY   \n",
       "63                  ENVIRONMENTAL MODELLING & SOFTWARE   \n",
       "0                               HYDROLOGICAL PROCESSES   \n",
       "4           ANNUAL REVIEW OF ENVIRONMENT AND RESOURCES   \n",
       "45                  ENVIRONMENTAL MODELLING & SOFTWARE   \n",
       "55                            WATER RESOURCES RESEARCH   \n",
       "148                   JOURNAL OF COMPUTATIONAL PHYSICS   \n",
       "28                  ENVIRONMENTAL MODELLING & SOFTWARE   \n",
       "5                   ENVIRONMENTAL SCIENCE & TECHNOLOGY   \n",
       "10                                               AMBIO   \n",
       "12        MEDICAL & BIOLOGICAL ENGINEERING & COMPUTING   \n",
       "\n",
       "                                             copyright  \\\n",
       "58    Elsevier Ltd. This is an open access article ...   \n",
       "1          (c) 2006 Elsevier B.V. All rights reserved.   \n",
       "39    Elsevier Ltd. This is an open access article ...   \n",
       "15                  Elsevier Ltd. All rights reserved.   \n",
       "3          (c) 2006 Elsevier B.V. All rights reserved.   \n",
       "2                   Elsevier Ltd. All rights reserved.   \n",
       "16                  Elsevier Ltd. All rights reserved.   \n",
       "23                          Published by Elsevier Ltd.   \n",
       "20         (C) 2011 Elsevier Inc. All rights reserved.   \n",
       "13                  Elsevier Ltd. All rights reserved.   \n",
       "63                  Elsevier Ltd. All rights reserved.   \n",
       "0                                                  NaN   \n",
       "4                                                  NaN   \n",
       "45                          Published by Elsevier Ltd.   \n",
       "55                                                 NaN   \n",
       "148        (C) 2016 Elsevier Inc. All rights reserved.   \n",
       "28                  Elsevier Ltd. All rights reserved.   \n",
       "5                                                  NaN   \n",
       "10                                                 NaN   \n",
       "12                                                 NaN   \n",
       "\n",
       "                                                 title  year  citations  \\\n",
       "58   The human core of the shared socioeconomic pat...  2017        105   \n",
       "1    Examining the global environmental impact of r...  2007        623   \n",
       "39   Sensitivity analysis of environmental models: ...  2016        138   \n",
       "15   Selecting among five common modelling approach...  2013        266   \n",
       "3     Categorising tools for sustainability assessment  2007        476   \n",
       "2    Ten iterative steps in development and evaluat...  2006        512   \n",
       "16          GRASS GIS: A multi-purpose open source GIS  2012        266   \n",
       "23   Integrated environmental modeling: A vision an...  2013        221   \n",
       "20   Adaptive numerical algorithms in space weather...  2012        253   \n",
       "13   Considering the energy, water and food nexus: ...  2011        272   \n",
       "63       Modelling with stakeholders - Next generation  2016        100   \n",
       "0     SCALE ISSUES IN HYDROLOGICAL MODELING - A REVIEW  1995        745   \n",
       "4    Assessing the vulnerability of social-environm...  2006        401   \n",
       "45   An overview of methods to evaluate uncertainty...  2015        123   \n",
       "55   A unified approach for process-based hydrologi...  2015        107   \n",
       "148  A review of predictive nonlinear theories for ...  2017         52   \n",
       "28   The role of expert opinion in environmental mo...  2012        179   \n",
       "5    Biotic ligand model, a flexible tool for devel...  2004        381   \n",
       "10                   Coupled human and natural systems  2007        304   \n",
       "12   An image-based modeling framework for patient-...  2008        274   \n",
       "\n",
       "     Avg. Citations  \n",
       "58            52.50  \n",
       "1             51.92  \n",
       "39            46.00  \n",
       "15            44.33  \n",
       "3             39.67  \n",
       "2             39.38  \n",
       "16            38.00  \n",
       "23            36.83  \n",
       "20            36.14  \n",
       "13            34.00  \n",
       "63            33.33  \n",
       "0             31.04  \n",
       "4             30.85  \n",
       "45            30.75  \n",
       "55            26.75  \n",
       "148           26.00  \n",
       "28            25.57  \n",
       "5             25.40  \n",
       "10            25.33  \n",
       "12            24.91  "
      ]
     },
     "execution_count": 12,
     "metadata": {},
     "output_type": "execute_result"
    }
   ],
   "source": [
    "cited_iem_frameworks = wosis.calc_average_citations(cited_iem_frameworks, sort=True)\n",
    "cited_iem_frameworks.head(20).loc[:, ~cited_iem_frameworks.columns.isin(hide_columns)]"
   ]
  },
  {
   "cell_type": "markdown",
   "metadata": {},
   "source": [
    "Get citations for each paper in the decade and select the most cited for review"
   ]
  },
  {
   "cell_type": "code",
   "execution_count": 13,
   "metadata": {},
   "outputs": [
    {
     "name": "stdout",
     "output_type": "stream",
     "text": [
      "Authenticated (SID: 8EmWIq5lGzwNFePSwHA)\n"
     ]
    },
    {
     "data": {
      "application/vnd.jupyter.widget-view+json": {
       "model_id": "a63a3c2d63504880893d92de86e80e1f",
       "version_major": 2,
       "version_minor": 0
      },
      "text/plain": [
       "HBox(children=(IntProgress(value=0, max=150), HTML(value='')))"
      ]
     },
     "metadata": {},
     "output_type": "display_data"
    },
    {
     "name": "stdout",
     "output_type": "stream",
     "text": [
      "\n"
     ]
    }
   ],
   "source": [
    "early_stage = iem_frameworks_rc.yearSplit(1987, 1999)\n",
    "mid_stage = iem_frameworks_rc.yearSplit(2000, 2009)\n",
    "late_stage = iem_frameworks_rc.yearSplit(2010, 2019)\n",
    "\n",
    "cited_early_stage = wosis.get_num_citations(early_stage, WOS_CONFIG, \n",
    "                                            cache_as='{}/earlystage_iem_citations.csv'.format(TMP_DIR))\n",
    "\n",
    "cited_mid_stage = wosis.get_num_citations(mid_stage, WOS_CONFIG, \n",
    "                                          cache_as='{}/midstage_iem_citations.csv'.format(TMP_DIR))\n",
    "\n",
    "cited_late_stage = wosis.get_num_citations(late_stage, WOS_CONFIG, \n",
    "                                          cache_as='{}/latestage_iem_citations.csv'.format(TMP_DIR))"
   ]
  },
  {
   "cell_type": "code",
   "execution_count": 17,
   "metadata": {},
   "outputs": [
    {
     "data": {
      "text/html": [
       "<div>\n",
       "<style scoped>\n",
       "    .dataframe tbody tr th:only-of-type {\n",
       "        vertical-align: middle;\n",
       "    }\n",
       "\n",
       "    .dataframe tbody tr th {\n",
       "        vertical-align: top;\n",
       "    }\n",
       "\n",
       "    .dataframe thead th {\n",
       "        text-align: right;\n",
       "    }\n",
       "</style>\n",
       "<table border=\"1\" class=\"dataframe\">\n",
       "  <thead>\n",
       "    <tr style=\"text-align: right;\">\n",
       "      <th></th>\n",
       "      <th>AU</th>\n",
       "      <th>SO</th>\n",
       "      <th>copyright</th>\n",
       "      <th>title</th>\n",
       "      <th>year</th>\n",
       "      <th>citations</th>\n",
       "      <th>Avg. Citations</th>\n",
       "    </tr>\n",
       "  </thead>\n",
       "  <tbody>\n",
       "    <tr>\n",
       "      <th>0</th>\n",
       "      <td>BLOSCHL, G|SIVAPALAN, M</td>\n",
       "      <td>HYDROLOGICAL PROCESSES</td>\n",
       "      <td></td>\n",
       "      <td>SCALE ISSUES IN HYDROLOGICAL MODELING - A REVIEW</td>\n",
       "      <td>1995</td>\n",
       "      <td>748</td>\n",
       "      <td>149.6</td>\n",
       "    </tr>\n",
       "    <tr>\n",
       "      <th>2</th>\n",
       "      <td>Yeomans, H|Grossmann, IE</td>\n",
       "      <td>COMPUTERS &amp; CHEMICAL ENGINEERING</td>\n",
       "      <td>(C) 1999 Elsevier Science Ltd. All rights res...</td>\n",
       "      <td>A systematic modeling framework of superstruct...</td>\n",
       "      <td>1999</td>\n",
       "      <td>144</td>\n",
       "      <td>144.0</td>\n",
       "    </tr>\n",
       "    <tr>\n",
       "      <th>3</th>\n",
       "      <td>Mandelbaum, A|Massey, WA|Reiman, MI</td>\n",
       "      <td>QUEUEING SYSTEMS</td>\n",
       "      <td></td>\n",
       "      <td>Strong approximations for Markovian service ne...</td>\n",
       "      <td>1998</td>\n",
       "      <td>129</td>\n",
       "      <td>64.5</td>\n",
       "    </tr>\n",
       "    <tr>\n",
       "      <th>1</th>\n",
       "      <td>MANNE, A|MENDELSOHN, R|RICHELS, R</td>\n",
       "      <td>ENERGY POLICY</td>\n",
       "      <td></td>\n",
       "      <td>A MODEL FOR EVALUATING REGIONAL AND GLOBAL EFF...</td>\n",
       "      <td>1995</td>\n",
       "      <td>288</td>\n",
       "      <td>57.6</td>\n",
       "    </tr>\n",
       "    <tr>\n",
       "      <th>19</th>\n",
       "      <td>Ashley, RM|Hvitved-Jacobsen, T|Bertrand-Krajew...</td>\n",
       "      <td>WATER SCIENCE AND TECHNOLOGY</td>\n",
       "      <td>(C) 1999 IAWQ Published by Elsevier Science L...</td>\n",
       "      <td>Quo vadis sewer process modelling?</td>\n",
       "      <td>1999</td>\n",
       "      <td>47</td>\n",
       "      <td>47.0</td>\n",
       "    </tr>\n",
       "    <tr>\n",
       "      <th>22</th>\n",
       "      <td>Reed, M|Cuddy, SM|Rizzoli, AE</td>\n",
       "      <td>ENVIRONMENTAL MODELLING &amp; SOFTWARE</td>\n",
       "      <td>(C) 1999 Elsevier Science Ltd. Ail rights res...</td>\n",
       "      <td>A framework for modelling multiple resource ma...</td>\n",
       "      <td>1999</td>\n",
       "      <td>45</td>\n",
       "      <td>45.0</td>\n",
       "    </tr>\n",
       "    <tr>\n",
       "      <th>23</th>\n",
       "      <td>Kanudia, A|Loulou, R</td>\n",
       "      <td>INTERNATIONAL JOURNAL OF ENVIRONMENT AND POLLU...</td>\n",
       "      <td></td>\n",
       "      <td>Advanced bottom-up modelling for national and ...</td>\n",
       "      <td>1999</td>\n",
       "      <td>44</td>\n",
       "      <td>44.0</td>\n",
       "    </tr>\n",
       "    <tr>\n",
       "      <th>24</th>\n",
       "      <td>Al-Ahmari, AMA|Ridgway, K</td>\n",
       "      <td>COMPUTERS IN INDUSTRY</td>\n",
       "      <td>(C) 1999 Elsevier Science B.V. All rights res...</td>\n",
       "      <td>An integrated modelling method to support manu...</td>\n",
       "      <td>1999</td>\n",
       "      <td>43</td>\n",
       "      <td>43.0</td>\n",
       "    </tr>\n",
       "    <tr>\n",
       "      <th>25</th>\n",
       "      <td>Vecchietti, A|Grossmann, IE</td>\n",
       "      <td>COMPUTERS &amp; CHEMICAL ENGINEERING</td>\n",
       "      <td>(C) 1999 Elsevier Science Ltd. All rights res...</td>\n",
       "      <td>LOGMIP: a disjunctive 0-1 non-linear optimizer...</td>\n",
       "      <td>1999</td>\n",
       "      <td>42</td>\n",
       "      <td>42.0</td>\n",
       "    </tr>\n",
       "    <tr>\n",
       "      <th>29</th>\n",
       "      <td>Wickham, JD|Jones, KB|Riitters, KH|O'Neill, RV...</td>\n",
       "      <td>ENVIRONMENTAL MANAGEMENT</td>\n",
       "      <td></td>\n",
       "      <td>An integrated environmental assessment of the ...</td>\n",
       "      <td>1999</td>\n",
       "      <td>32</td>\n",
       "      <td>32.0</td>\n",
       "    </tr>\n",
       "  </tbody>\n",
       "</table>\n",
       "</div>"
      ],
      "text/plain": [
       "                                                   AU  \\\n",
       "0                             BLOSCHL, G|SIVAPALAN, M   \n",
       "2                            Yeomans, H|Grossmann, IE   \n",
       "3                 Mandelbaum, A|Massey, WA|Reiman, MI   \n",
       "1                   MANNE, A|MENDELSOHN, R|RICHELS, R   \n",
       "19  Ashley, RM|Hvitved-Jacobsen, T|Bertrand-Krajew...   \n",
       "22                      Reed, M|Cuddy, SM|Rizzoli, AE   \n",
       "23                               Kanudia, A|Loulou, R   \n",
       "24                          Al-Ahmari, AMA|Ridgway, K   \n",
       "25                        Vecchietti, A|Grossmann, IE   \n",
       "29  Wickham, JD|Jones, KB|Riitters, KH|O'Neill, RV...   \n",
       "\n",
       "                                                   SO  \\\n",
       "0                              HYDROLOGICAL PROCESSES   \n",
       "2                    COMPUTERS & CHEMICAL ENGINEERING   \n",
       "3                                    QUEUEING SYSTEMS   \n",
       "1                                       ENERGY POLICY   \n",
       "19                       WATER SCIENCE AND TECHNOLOGY   \n",
       "22                 ENVIRONMENTAL MODELLING & SOFTWARE   \n",
       "23  INTERNATIONAL JOURNAL OF ENVIRONMENT AND POLLU...   \n",
       "24                              COMPUTERS IN INDUSTRY   \n",
       "25                   COMPUTERS & CHEMICAL ENGINEERING   \n",
       "29                           ENVIRONMENTAL MANAGEMENT   \n",
       "\n",
       "                                            copyright  \\\n",
       "0                                                       \n",
       "2    (C) 1999 Elsevier Science Ltd. All rights res...   \n",
       "3                                                       \n",
       "1                                                       \n",
       "19   (C) 1999 IAWQ Published by Elsevier Science L...   \n",
       "22   (C) 1999 Elsevier Science Ltd. Ail rights res...   \n",
       "23                                                      \n",
       "24   (C) 1999 Elsevier Science B.V. All rights res...   \n",
       "25   (C) 1999 Elsevier Science Ltd. All rights res...   \n",
       "29                                                      \n",
       "\n",
       "                                                title  year  citations  \\\n",
       "0    SCALE ISSUES IN HYDROLOGICAL MODELING - A REVIEW  1995        748   \n",
       "2   A systematic modeling framework of superstruct...  1999        144   \n",
       "3   Strong approximations for Markovian service ne...  1998        129   \n",
       "1   A MODEL FOR EVALUATING REGIONAL AND GLOBAL EFF...  1995        288   \n",
       "19                 Quo vadis sewer process modelling?  1999         47   \n",
       "22  A framework for modelling multiple resource ma...  1999         45   \n",
       "23  Advanced bottom-up modelling for national and ...  1999         44   \n",
       "24  An integrated modelling method to support manu...  1999         43   \n",
       "25  LOGMIP: a disjunctive 0-1 non-linear optimizer...  1999         42   \n",
       "29  An integrated environmental assessment of the ...  1999         32   \n",
       "\n",
       "    Avg. Citations  \n",
       "0            149.6  \n",
       "2            144.0  \n",
       "3             64.5  \n",
       "1             57.6  \n",
       "19            47.0  \n",
       "22            45.0  \n",
       "23            44.0  \n",
       "24            43.0  \n",
       "25            42.0  \n",
       "29            32.0  "
      ]
     },
     "execution_count": 17,
     "metadata": {},
     "output_type": "execute_result"
    }
   ],
   "source": [
    "cited_early_stage = wosis.calc_average_citations(cited_early_stage, sort=True)\n",
    "cited_early_stage.head(10).loc[:, ~cited_early_stage.columns.isin(hide_columns)]"
   ]
  },
  {
   "cell_type": "code",
   "execution_count": 18,
   "metadata": {},
   "outputs": [
    {
     "data": {
      "text/html": [
       "<div>\n",
       "<style scoped>\n",
       "    .dataframe tbody tr th:only-of-type {\n",
       "        vertical-align: middle;\n",
       "    }\n",
       "\n",
       "    .dataframe tbody tr th {\n",
       "        vertical-align: top;\n",
       "    }\n",
       "\n",
       "    .dataframe thead th {\n",
       "        text-align: right;\n",
       "    }\n",
       "</style>\n",
       "<table border=\"1\" class=\"dataframe\">\n",
       "  <thead>\n",
       "    <tr style=\"text-align: right;\">\n",
       "      <th></th>\n",
       "      <th>AU</th>\n",
       "      <th>SO</th>\n",
       "      <th>copyright</th>\n",
       "      <th>title</th>\n",
       "      <th>year</th>\n",
       "      <th>citations</th>\n",
       "      <th>Avg. Citations</th>\n",
       "    </tr>\n",
       "  </thead>\n",
       "  <tbody>\n",
       "    <tr>\n",
       "      <th>0</th>\n",
       "      <td>Wiedmann, Thomas|Lenzen, Manfred|Turner, Karen...</td>\n",
       "      <td>ECOLOGICAL ECONOMICS</td>\n",
       "      <td>(c) 2006 Elsevier B.V. All rights reserved.</td>\n",
       "      <td>Examining the global environmental impact of r...</td>\n",
       "      <td>2007</td>\n",
       "      <td>623</td>\n",
       "      <td>207.67</td>\n",
       "    </tr>\n",
       "    <tr>\n",
       "      <th>2</th>\n",
       "      <td>Ness, Barry|Urbel-Piirsalu, Evelin|Anderberg, ...</td>\n",
       "      <td>ECOLOGICAL ECONOMICS</td>\n",
       "      <td>(c) 2006 Elsevier B.V. All rights reserved.</td>\n",
       "      <td>Categorising tools for sustainability assessment</td>\n",
       "      <td>2007</td>\n",
       "      <td>476</td>\n",
       "      <td>158.67</td>\n",
       "    </tr>\n",
       "    <tr>\n",
       "      <th>10</th>\n",
       "      <td>Antiga, Luca|Piccinelli, Marina|Botti, Lorenzo...</td>\n",
       "      <td>MEDICAL &amp; BIOLOGICAL ENGINEERING &amp; COMPUTING</td>\n",
       "      <td>NaN</td>\n",
       "      <td>An image-based modeling framework for patient-...</td>\n",
       "      <td>2008</td>\n",
       "      <td>274</td>\n",
       "      <td>137.00</td>\n",
       "    </tr>\n",
       "    <tr>\n",
       "      <th>1</th>\n",
       "      <td>Jakeman, AJ|Letcher, RA|Norton, JP</td>\n",
       "      <td>ENVIRONMENTAL MODELLING &amp; SOFTWARE</td>\n",
       "      <td>Elsevier Ltd. All rights reserved.</td>\n",
       "      <td>Ten iterative steps in development and evaluat...</td>\n",
       "      <td>2006</td>\n",
       "      <td>512</td>\n",
       "      <td>128.00</td>\n",
       "    </tr>\n",
       "    <tr>\n",
       "      <th>29</th>\n",
       "      <td>Ziehn, T.|Tomlin, A. S.</td>\n",
       "      <td>ENVIRONMENTAL MODELLING &amp; SOFTWARE</td>\n",
       "      <td>Elsevier Ltd. All rights reserved.</td>\n",
       "      <td>GUI-HDMR - A software tool for global sensitiv...</td>\n",
       "      <td>2009</td>\n",
       "      <td>121</td>\n",
       "      <td>121.00</td>\n",
       "    </tr>\n",
       "    <tr>\n",
       "      <th>9</th>\n",
       "      <td>Liu, Jianguo|Dietz, Thomas|Carpenter, Stephen ...</td>\n",
       "      <td>AMBIO</td>\n",
       "      <td>NaN</td>\n",
       "      <td>Coupled human and natural systems</td>\n",
       "      <td>2007</td>\n",
       "      <td>304</td>\n",
       "      <td>101.33</td>\n",
       "    </tr>\n",
       "    <tr>\n",
       "      <th>3</th>\n",
       "      <td>Eakin, Hallie|Luers, Amy Lynd</td>\n",
       "      <td>ANNUAL REVIEW OF ENVIRONMENT AND RESOURCES</td>\n",
       "      <td>NaN</td>\n",
       "      <td>Assessing the vulnerability of social-environm...</td>\n",
       "      <td>2006</td>\n",
       "      <td>401</td>\n",
       "      <td>100.25</td>\n",
       "    </tr>\n",
       "    <tr>\n",
       "      <th>43</th>\n",
       "      <td>Thabrew, Lanka|Wiek, Arnim|Ries, Robert</td>\n",
       "      <td>JOURNAL OF CLEANER PRODUCTION</td>\n",
       "      <td>Elsevier Ltd. All rights reserved.</td>\n",
       "      <td>Environmental decision making in multi-stakeho...</td>\n",
       "      <td>2009</td>\n",
       "      <td>82</td>\n",
       "      <td>82.00</td>\n",
       "    </tr>\n",
       "    <tr>\n",
       "      <th>21</th>\n",
       "      <td>Liu, Yuqiong|Gupta, Hoshin|Springer, Everett|W...</td>\n",
       "      <td>ENVIRONMENTAL MODELLING &amp; SOFTWARE</td>\n",
       "      <td>Elsevier Ltd. All rights reserved.</td>\n",
       "      <td>Linking science with environmental decision ma...</td>\n",
       "      <td>2008</td>\n",
       "      <td>156</td>\n",
       "      <td>78.00</td>\n",
       "    </tr>\n",
       "    <tr>\n",
       "      <th>46</th>\n",
       "      <td>Argent, R. M.|Perraud, J-M.|Rahman, J. M.|Gray...</td>\n",
       "      <td>ENVIRONMENTAL MODELLING &amp; SOFTWARE</td>\n",
       "      <td>Crown Copyright (C) 2008 Published by Elsevie...</td>\n",
       "      <td>A new approach to water quality modelling and ...</td>\n",
       "      <td>2009</td>\n",
       "      <td>78</td>\n",
       "      <td>78.00</td>\n",
       "    </tr>\n",
       "  </tbody>\n",
       "</table>\n",
       "</div>"
      ],
      "text/plain": [
       "                                                   AU  \\\n",
       "0   Wiedmann, Thomas|Lenzen, Manfred|Turner, Karen...   \n",
       "2   Ness, Barry|Urbel-Piirsalu, Evelin|Anderberg, ...   \n",
       "10  Antiga, Luca|Piccinelli, Marina|Botti, Lorenzo...   \n",
       "1                  Jakeman, AJ|Letcher, RA|Norton, JP   \n",
       "29                            Ziehn, T.|Tomlin, A. S.   \n",
       "9   Liu, Jianguo|Dietz, Thomas|Carpenter, Stephen ...   \n",
       "3                       Eakin, Hallie|Luers, Amy Lynd   \n",
       "43            Thabrew, Lanka|Wiek, Arnim|Ries, Robert   \n",
       "21  Liu, Yuqiong|Gupta, Hoshin|Springer, Everett|W...   \n",
       "46  Argent, R. M.|Perraud, J-M.|Rahman, J. M.|Gray...   \n",
       "\n",
       "                                              SO  \\\n",
       "0                           ECOLOGICAL ECONOMICS   \n",
       "2                           ECOLOGICAL ECONOMICS   \n",
       "10  MEDICAL & BIOLOGICAL ENGINEERING & COMPUTING   \n",
       "1             ENVIRONMENTAL MODELLING & SOFTWARE   \n",
       "29            ENVIRONMENTAL MODELLING & SOFTWARE   \n",
       "9                                          AMBIO   \n",
       "3     ANNUAL REVIEW OF ENVIRONMENT AND RESOURCES   \n",
       "43                 JOURNAL OF CLEANER PRODUCTION   \n",
       "21            ENVIRONMENTAL MODELLING & SOFTWARE   \n",
       "46            ENVIRONMENTAL MODELLING & SOFTWARE   \n",
       "\n",
       "                                            copyright  \\\n",
       "0         (c) 2006 Elsevier B.V. All rights reserved.   \n",
       "2         (c) 2006 Elsevier B.V. All rights reserved.   \n",
       "10                                                NaN   \n",
       "1                  Elsevier Ltd. All rights reserved.   \n",
       "29                 Elsevier Ltd. All rights reserved.   \n",
       "9                                                 NaN   \n",
       "3                                                 NaN   \n",
       "43                 Elsevier Ltd. All rights reserved.   \n",
       "21                 Elsevier Ltd. All rights reserved.   \n",
       "46   Crown Copyright (C) 2008 Published by Elsevie...   \n",
       "\n",
       "                                                title  year  citations  \\\n",
       "0   Examining the global environmental impact of r...  2007        623   \n",
       "2    Categorising tools for sustainability assessment  2007        476   \n",
       "10  An image-based modeling framework for patient-...  2008        274   \n",
       "1   Ten iterative steps in development and evaluat...  2006        512   \n",
       "29  GUI-HDMR - A software tool for global sensitiv...  2009        121   \n",
       "9                   Coupled human and natural systems  2007        304   \n",
       "3   Assessing the vulnerability of social-environm...  2006        401   \n",
       "43  Environmental decision making in multi-stakeho...  2009         82   \n",
       "21  Linking science with environmental decision ma...  2008        156   \n",
       "46  A new approach to water quality modelling and ...  2009         78   \n",
       "\n",
       "    Avg. Citations  \n",
       "0           207.67  \n",
       "2           158.67  \n",
       "10          137.00  \n",
       "1           128.00  \n",
       "29          121.00  \n",
       "9           101.33  \n",
       "3           100.25  \n",
       "43           82.00  \n",
       "21           78.00  \n",
       "46           78.00  "
      ]
     },
     "execution_count": 18,
     "metadata": {},
     "output_type": "execute_result"
    }
   ],
   "source": [
    "cited_mid_stage = wosis.calc_average_citations(cited_mid_stage, sort=True)\n",
    "cited_mid_stage.head(10).loc[:, ~cited_mid_stage.columns.isin(hide_columns)]"
   ]
  },
  {
   "cell_type": "code",
   "execution_count": 19,
   "metadata": {},
   "outputs": [
    {
     "data": {
      "text/html": [
       "<div>\n",
       "<style scoped>\n",
       "    .dataframe tbody tr th:only-of-type {\n",
       "        vertical-align: middle;\n",
       "    }\n",
       "\n",
       "    .dataframe tbody tr th {\n",
       "        vertical-align: top;\n",
       "    }\n",
       "\n",
       "    .dataframe thead th {\n",
       "        text-align: right;\n",
       "    }\n",
       "</style>\n",
       "<table border=\"1\" class=\"dataframe\">\n",
       "  <thead>\n",
       "    <tr style=\"text-align: right;\">\n",
       "      <th></th>\n",
       "      <th>AU</th>\n",
       "      <th>SO</th>\n",
       "      <th>copyright</th>\n",
       "      <th>title</th>\n",
       "      <th>year</th>\n",
       "      <th>citations</th>\n",
       "      <th>Avg. Citations</th>\n",
       "    </tr>\n",
       "  </thead>\n",
       "  <tbody>\n",
       "    <tr>\n",
       "      <th>21</th>\n",
       "      <td>Samir, K. C.|Lutz, Wolfgang</td>\n",
       "      <td>GLOBAL ENVIRONMENTAL CHANGE-HUMAN AND POLICY D...</td>\n",
       "      <td>Elsevier Ltd. This is an open access article ...</td>\n",
       "      <td>The human core of the shared socioeconomic pat...</td>\n",
       "      <td>2017</td>\n",
       "      <td>105</td>\n",
       "      <td>52.50</td>\n",
       "    </tr>\n",
       "    <tr>\n",
       "      <th>10</th>\n",
       "      <td>Pianosi, Francesca|Beven, Keith|Freer, Jim|Hal...</td>\n",
       "      <td>ENVIRONMENTAL MODELLING &amp; SOFTWARE</td>\n",
       "      <td>Elsevier Ltd. This is an open access article ...</td>\n",
       "      <td>Sensitivity analysis of environmental models: ...</td>\n",
       "      <td>2016</td>\n",
       "      <td>138</td>\n",
       "      <td>46.00</td>\n",
       "    </tr>\n",
       "    <tr>\n",
       "      <th>1</th>\n",
       "      <td>Kelly (Letcher), Rebecca A.|Jakeman, Anthony J...</td>\n",
       "      <td>ENVIRONMENTAL MODELLING &amp; SOFTWARE</td>\n",
       "      <td>Elsevier Ltd. All rights reserved.</td>\n",
       "      <td>Selecting among five common modelling approach...</td>\n",
       "      <td>2013</td>\n",
       "      <td>266</td>\n",
       "      <td>44.33</td>\n",
       "    </tr>\n",
       "    <tr>\n",
       "      <th>2</th>\n",
       "      <td>Neteler, Markus|Bowman, M. Hamish|Landa, Marti...</td>\n",
       "      <td>ENVIRONMENTAL MODELLING &amp; SOFTWARE</td>\n",
       "      <td>Elsevier Ltd. All rights reserved.</td>\n",
       "      <td>GRASS GIS: A multi-purpose open source GIS</td>\n",
       "      <td>2012</td>\n",
       "      <td>266</td>\n",
       "      <td>38.00</td>\n",
       "    </tr>\n",
       "    <tr>\n",
       "      <th>4</th>\n",
       "      <td>Laniak, Gerard F.|Olchin, Gabriel|Goodall, Jon...</td>\n",
       "      <td>ENVIRONMENTAL MODELLING &amp; SOFTWARE</td>\n",
       "      <td>Published by Elsevier Ltd.</td>\n",
       "      <td>Integrated environmental modeling: A vision an...</td>\n",
       "      <td>2013</td>\n",
       "      <td>221</td>\n",
       "      <td>36.83</td>\n",
       "    </tr>\n",
       "    <tr>\n",
       "      <th>3</th>\n",
       "      <td>Toth, Gabor|van der Holst, Bart|Sokolov, Igor ...</td>\n",
       "      <td>JOURNAL OF COMPUTATIONAL PHYSICS</td>\n",
       "      <td>(C) 2011 Elsevier Inc. All rights reserved.</td>\n",
       "      <td>Adaptive numerical algorithms in space weather...</td>\n",
       "      <td>2012</td>\n",
       "      <td>253</td>\n",
       "      <td>36.14</td>\n",
       "    </tr>\n",
       "    <tr>\n",
       "      <th>0</th>\n",
       "      <td>Bazilian, Morgan|Rogner, Holger|Howells, Mark|...</td>\n",
       "      <td>ENERGY POLICY</td>\n",
       "      <td>Elsevier Ltd. All rights reserved.</td>\n",
       "      <td>Considering the energy, water and food nexus: ...</td>\n",
       "      <td>2011</td>\n",
       "      <td>272</td>\n",
       "      <td>34.00</td>\n",
       "    </tr>\n",
       "    <tr>\n",
       "      <th>24</th>\n",
       "      <td>Voinov, Alexey|Kolagani, Nagesh|McCall, Michae...</td>\n",
       "      <td>ENVIRONMENTAL MODELLING &amp; SOFTWARE</td>\n",
       "      <td>Elsevier Ltd. All rights reserved.</td>\n",
       "      <td>Modelling with stakeholders - Next generation</td>\n",
       "      <td>2016</td>\n",
       "      <td>100</td>\n",
       "      <td>33.33</td>\n",
       "    </tr>\n",
       "    <tr>\n",
       "      <th>14</th>\n",
       "      <td>Uusitalo, Laura|Lehikoinen, Annukka|Helle, Ina...</td>\n",
       "      <td>ENVIRONMENTAL MODELLING &amp; SOFTWARE</td>\n",
       "      <td>Published by Elsevier Ltd.</td>\n",
       "      <td>An overview of methods to evaluate uncertainty...</td>\n",
       "      <td>2015</td>\n",
       "      <td>123</td>\n",
       "      <td>30.75</td>\n",
       "    </tr>\n",
       "    <tr>\n",
       "      <th>19</th>\n",
       "      <td>Clark, Martyn P.|Nijssen, Bart|Lundquist, Jess...</td>\n",
       "      <td>WATER RESOURCES RESEARCH</td>\n",
       "      <td>NaN</td>\n",
       "      <td>A unified approach for process-based hydrologi...</td>\n",
       "      <td>2015</td>\n",
       "      <td>107</td>\n",
       "      <td>26.75</td>\n",
       "    </tr>\n",
       "  </tbody>\n",
       "</table>\n",
       "</div>"
      ],
      "text/plain": [
       "                                                   AU  \\\n",
       "21                        Samir, K. C.|Lutz, Wolfgang   \n",
       "10  Pianosi, Francesca|Beven, Keith|Freer, Jim|Hal...   \n",
       "1   Kelly (Letcher), Rebecca A.|Jakeman, Anthony J...   \n",
       "2   Neteler, Markus|Bowman, M. Hamish|Landa, Marti...   \n",
       "4   Laniak, Gerard F.|Olchin, Gabriel|Goodall, Jon...   \n",
       "3   Toth, Gabor|van der Holst, Bart|Sokolov, Igor ...   \n",
       "0   Bazilian, Morgan|Rogner, Holger|Howells, Mark|...   \n",
       "24  Voinov, Alexey|Kolagani, Nagesh|McCall, Michae...   \n",
       "14  Uusitalo, Laura|Lehikoinen, Annukka|Helle, Ina...   \n",
       "19  Clark, Martyn P.|Nijssen, Bart|Lundquist, Jess...   \n",
       "\n",
       "                                                   SO  \\\n",
       "21  GLOBAL ENVIRONMENTAL CHANGE-HUMAN AND POLICY D...   \n",
       "10                 ENVIRONMENTAL MODELLING & SOFTWARE   \n",
       "1                  ENVIRONMENTAL MODELLING & SOFTWARE   \n",
       "2                  ENVIRONMENTAL MODELLING & SOFTWARE   \n",
       "4                  ENVIRONMENTAL MODELLING & SOFTWARE   \n",
       "3                    JOURNAL OF COMPUTATIONAL PHYSICS   \n",
       "0                                       ENERGY POLICY   \n",
       "24                 ENVIRONMENTAL MODELLING & SOFTWARE   \n",
       "14                 ENVIRONMENTAL MODELLING & SOFTWARE   \n",
       "19                           WATER RESOURCES RESEARCH   \n",
       "\n",
       "                                            copyright  \\\n",
       "21   Elsevier Ltd. This is an open access article ...   \n",
       "10   Elsevier Ltd. This is an open access article ...   \n",
       "1                  Elsevier Ltd. All rights reserved.   \n",
       "2                  Elsevier Ltd. All rights reserved.   \n",
       "4                          Published by Elsevier Ltd.   \n",
       "3         (C) 2011 Elsevier Inc. All rights reserved.   \n",
       "0                  Elsevier Ltd. All rights reserved.   \n",
       "24                 Elsevier Ltd. All rights reserved.   \n",
       "14                         Published by Elsevier Ltd.   \n",
       "19                                                NaN   \n",
       "\n",
       "                                                title  year  citations  \\\n",
       "21  The human core of the shared socioeconomic pat...  2017        105   \n",
       "10  Sensitivity analysis of environmental models: ...  2016        138   \n",
       "1   Selecting among five common modelling approach...  2013        266   \n",
       "2          GRASS GIS: A multi-purpose open source GIS  2012        266   \n",
       "4   Integrated environmental modeling: A vision an...  2013        221   \n",
       "3   Adaptive numerical algorithms in space weather...  2012        253   \n",
       "0   Considering the energy, water and food nexus: ...  2011        272   \n",
       "24      Modelling with stakeholders - Next generation  2016        100   \n",
       "14  An overview of methods to evaluate uncertainty...  2015        123   \n",
       "19  A unified approach for process-based hydrologi...  2015        107   \n",
       "\n",
       "    Avg. Citations  \n",
       "21           52.50  \n",
       "10           46.00  \n",
       "1            44.33  \n",
       "2            38.00  \n",
       "4            36.83  \n",
       "3            36.14  \n",
       "0            34.00  \n",
       "24           33.33  \n",
       "14           30.75  \n",
       "19           26.75  "
      ]
     },
     "execution_count": 19,
     "metadata": {},
     "output_type": "execute_result"
    }
   ],
   "source": [
    "cited_late_stage = wosis.calc_average_citations(cited_late_stage, sort=True)\n",
    "cited_late_stage.head(10).loc[:, ~cited_late_stage.columns.isin(hide_columns)]"
   ]
  },
  {
   "cell_type": "markdown",
   "metadata": {},
   "source": [
    "<hr>"
   ]
  },
  {
   "cell_type": "code",
   "execution_count": 13,
   "metadata": {},
   "outputs": [
    {
     "name": "stdout",
     "output_type": "stream",
     "text": [
      "Topic 1: model framework use models process simul develop data modeling approach\n",
      "Topic 2: assess assessment environment sustain social integr impact econom polici integrated\n",
      "Topic 3: control treatment sewer wastewat wastewater plant real wwtp tim simul\n",
      "Topic 4: risk health assess assessment hazard exposur contamin exposure manag human\n",
      "Topic 5: urban water drainag citi plan modelling sewer catchment qualiti area\n",
      "Topic 6: environmental modelling software environment modeling technology response analysis integrated pollution\n",
      "Topic 7: decision support decis water manag management river making tool basin\n",
      "Topic 8: design product manufactur optim object framework propos network function optimization\n",
      "Topic 9: agent simul based bas simulation human multi framework systems event\n",
      "Topic 10: gis data spatial geograph open source tool inform pollut sourc\n"
     ]
    }
   ],
   "source": [
    "iem_framework_subtopics = wosis.find_topics(iem_frameworks_rc, cache_as='{}/iem_framework_subtopics.pkl'.format(TMP_DIR))"
   ]
  },
  {
   "cell_type": "code",
   "execution_count": 14,
   "metadata": {},
   "outputs": [],
   "source": [
    "emf = iem_framework_subtopics.get_topic_by_id(1)\n",
    "emf_rc = wosis.extract_recs(emf.id, iem_frameworks_rc)"
   ]
  },
  {
   "cell_type": "code",
   "execution_count": 15,
   "metadata": {},
   "outputs": [
    {
     "name": "stdout",
     "output_type": "stream",
     "text": [
      "Topic 1: use process framework approach integr develop environment data models differ\n",
      "Topic 2: transport sediment contamin fate solut site field phase particl releas\n",
      "Topic 3: simul simulation event framework discrete parallel real dev graph net\n",
      "Topic 4: web service servic semant workflow services interoper access platform open\n",
      "Topic 5: hydrolog hydrological watersh water human socio catchment physically hydrology review\n",
      "Topic 6: cellular automata ca cell local unstructur spatial dynam size pattern\n",
      "Topic 7: component compon components softwar openmi modeling earth construct develop integr\n",
      "Topic 8: scale differ catchment scales scaling spatial land scal region tempor\n",
      "Topic 9: project plan projects coordin reflect requir activ busi process monitor\n",
      "Topic 10: hybrid linear systems non discret framework comput state program algorithm\n"
     ]
    }
   ],
   "source": [
    "emf_subsubtopics = wosis.find_topics(emf_rc, cache_as='{}/emf_subsubtopics.pkl'.format(TMP_DIR))"
   ]
  },
  {
   "cell_type": "code",
   "execution_count": 16,
   "metadata": {},
   "outputs": [],
   "source": [
    "integrated_frameworks = emf_subsubtopics.get_topic_by_id(1)\n",
    "web_platforms = emf_subsubtopics.get_topic_by_id(4)\n",
    "component_based_development = emf_subsubtopics.get_topic_by_id(7)\n",
    "scale_issues = emf_subsubtopics.get_topic_by_id(8)"
   ]
  },
  {
   "cell_type": "code",
   "execution_count": 17,
   "metadata": {},
   "outputs": [
    {
     "data": {
      "image/png": "[encoded data removed]",
      "text/plain": [
       "<Figure size 648x432 with 1 Axes>"
      ]
     },
     "metadata": {
      "needs_background": "light"
     },
     "output_type": "display_data"
    }
   ],
   "source": [
    "wos_plot.plot_pub_trend(wosis.extract_recs(integrated_frameworks.id, emf_rc))"
   ]
  },
  {
   "cell_type": "code",
   "execution_count": 18,
   "metadata": {},
   "outputs": [
    {
     "data": {
      "image/png": "[encoded data removed]",
      "text/plain": [
       "<Figure size 648x432 with 1 Axes>"
      ]
     },
     "metadata": {
      "needs_background": "light"
     },
     "output_type": "display_data"
    }
   ],
   "source": [
    "wos_plot.plot_pub_trend(wosis.extract_recs(web_platforms.id, emf_rc))"
   ]
  },
  {
   "cell_type": "code",
   "execution_count": 19,
   "metadata": {},
   "outputs": [
    {
     "data": {
      "image/png": "[encoded data removed]",
      "text/plain": [
       "<Figure size 648x432 with 1 Axes>"
      ]
     },
     "metadata": {
      "needs_background": "light"
     },
     "output_type": "display_data"
    }
   ],
   "source": [
    "wos_plot.plot_pub_trend(wosis.extract_recs(component_based_development.id, emf_rc))"
   ]
  },
  {
   "cell_type": "code",
   "execution_count": 20,
   "metadata": {},
   "outputs": [
    {
     "data": {
      "image/png": "[encoded data removed]",
      "text/plain": [
       "<Figure size 648x432 with 1 Axes>"
      ]
     },
     "metadata": {
      "needs_background": "light"
     },
     "output_type": "display_data"
    }
   ],
   "source": [
    "wos_plot.plot_pub_trend(wosis.extract_recs(scale_issues.id, emf_rc))"
   ]
  },
  {
   "cell_type": "code",
   "execution_count": 21,
   "metadata": {},
   "outputs": [
    {
     "data": {
      "text/plain": [
       "['STRUCTURAL MODELING AND SENSITIVITY ANALYSIS OF SHAPE OPTIMIZATION',\n",
       " 'STOCHASTIC DYNAMIC-PROGRAMMING MODELS FOR WATER-QUALITY MANAGEMENT',\n",
       " 'AN APPROXIMATION TECHNIQUE FOR STOCHASTIC ENVIRONMENTAL MODELING']"
      ]
     },
     "execution_count": 21,
     "metadata": {},
     "output_type": "execute_result"
    }
   ],
   "source": [
    "linked = wosis.link_to_pub(integrated_frameworks)\n",
    "linked.loc[linked.year == min(linked.year)].title.tolist()"
   ]
  },
  {
   "cell_type": "code",
   "execution_count": 22,
   "metadata": {},
   "outputs": [
    {
     "data": {
      "text/plain": [
       "['Component modeling for the spatial representation of wildlife movements']"
      ]
     },
     "execution_count": 22,
     "metadata": {},
     "output_type": "execute_result"
    }
   ],
   "source": [
    "linked = wosis.link_to_pub(component_based_development)\n",
    "linked.loc[linked.year == min(linked.year)].title.tolist()"
   ]
  },
  {
   "cell_type": "code",
   "execution_count": 23,
   "metadata": {},
   "outputs": [
    {
     "data": {
      "text/plain": [
       "['SCALE ISSUES IN HYDROLOGICAL MODELING - A REVIEW']"
      ]
     },
     "execution_count": 23,
     "metadata": {},
     "output_type": "execute_result"
    }
   ],
   "source": [
    "linked = wosis.link_to_pub(scale_issues)\n",
    "linked.loc[linked.year == min(linked.year)].title.tolist()"
   ]
  },
  {
   "cell_type": "code",
   "execution_count": null,
   "metadata": {},
   "outputs": [],
   "source": []
  },
  {
   "cell_type": "code",
   "execution_count": null,
   "metadata": {},
   "outputs": [],
   "source": []
  },
  {
   "cell_type": "code",
   "execution_count": 24,
   "metadata": {},
   "outputs": [],
   "source": [
    "frameworks = wosis.keyword_matches(emf_rc, ['software framework', 'model framework', 'model development'])"
   ]
  },
  {
   "cell_type": "code",
   "execution_count": 25,
   "metadata": {},
   "outputs": [
    {
     "data": {
      "text/plain": [
       "{\"{'model development'}\": 92,\n",
       " \"{'model framework'}\": 90,\n",
       " \"{'software framework'}\": 95}"
      ]
     },
     "execution_count": 25,
     "metadata": {},
     "output_type": "execute_result"
    }
   ],
   "source": [
    "frameworks.summary"
   ]
  },
  {
   "cell_type": "markdown",
   "metadata": {},
   "source": [
    "These titles were then manually sorted based on percieved relevance. Here, we are interested in papers that speak of issues within the development process of Integrated Environmental Models and Frameworks.\n",
    "\n",
    "An additional column ('relevant') was added with the following:\n",
    "\n",
    "* Yes - Relevant\n",
    "* No - Not relevant\n",
    "* ? - Could not determine relevance with key phrases\n",
    "\n",
    "The results were saved into a separate CSV file (loaded in below)"
   ]
  },
  {
   "cell_type": "code",
   "execution_count": 26,
   "metadata": {},
   "outputs": [],
   "source": [
    "emf_manually_sorted = pd.read_csv('{}/emf_modelling_phrases_relevant.csv'.format(DATA_DIR))"
   ]
  },
  {
   "cell_type": "code",
   "execution_count": 27,
   "metadata": {},
   "outputs": [
    {
     "data": {
      "text/html": [
       "<div>\n",
       "<style scoped>\n",
       "    .dataframe tbody tr th:only-of-type {\n",
       "        vertical-align: middle;\n",
       "    }\n",
       "\n",
       "    .dataframe tbody tr th {\n",
       "        vertical-align: top;\n",
       "    }\n",
       "\n",
       "    .dataframe thead th {\n",
       "        text-align: right;\n",
       "    }\n",
       "</style>\n",
       "<table border=\"1\" class=\"dataframe\">\n",
       "  <thead>\n",
       "    <tr style=\"text-align: right;\">\n",
       "      <th></th>\n",
       "      <th>title</th>\n",
       "      <th>year</th>\n",
       "      <th>DOI link</th>\n",
       "    </tr>\n",
       "  </thead>\n",
       "  <tbody>\n",
       "    <tr>\n",
       "      <th>0</th>\n",
       "      <td>Delivering environmental decision support syst...</td>\n",
       "      <td>1997</td>\n",
       "      <td>https://dx.doi.org/10.1016/S1364-8152(97)00016-9</td>\n",
       "    </tr>\n",
       "    <tr>\n",
       "      <th>1</th>\n",
       "      <td>Issues of EIS software design: some lessons le...</td>\n",
       "      <td>2001</td>\n",
       "      <td>https://dx.doi.org/10.1016/S1364-8152(01)00011-1</td>\n",
       "    </tr>\n",
       "    <tr>\n",
       "      <th>2</th>\n",
       "      <td>A short discussion about the comparison betwee...</td>\n",
       "      <td>2006</td>\n",
       "      <td>https://dx.doi.org/10.1007/1-4020-5263-4_57</td>\n",
       "    </tr>\n",
       "    <tr>\n",
       "      <th>3</th>\n",
       "      <td>Environmental modelling for blue collars</td>\n",
       "      <td>2011</td>\n",
       "      <td>https://dx.doi.org/10.1504/IJEP.2011.045482</td>\n",
       "    </tr>\n",
       "    <tr>\n",
       "      <th>4</th>\n",
       "      <td>The dynamic simulation and visualization softw...</td>\n",
       "      <td>2011</td>\n",
       "      <td>https://dx.doi.org/10.1016/j.envsoft.2010.07.002</td>\n",
       "    </tr>\n",
       "    <tr>\n",
       "      <th>5</th>\n",
       "      <td>Behavioural issues in environmental modelling ...</td>\n",
       "      <td>2015</td>\n",
       "      <td>https://dx.doi.org/10.1016/j.envsoft.2015.08.019</td>\n",
       "    </tr>\n",
       "    <tr>\n",
       "      <th>6</th>\n",
       "      <td>Environmental Modelling with Reverse Combinato...</td>\n",
       "      <td>2017</td>\n",
       "      <td>https://dx.doi.org/10.1007/978-3-319-89935-0_34</td>\n",
       "    </tr>\n",
       "    <tr>\n",
       "      <th>7</th>\n",
       "      <td>Dilemmas of modelling and decision-making in e...</td>\n",
       "      <td>2018</td>\n",
       "      <td>https://dx.doi.org/10.1016/j.envsoft.2017.09.015</td>\n",
       "    </tr>\n",
       "  </tbody>\n",
       "</table>\n",
       "</div>"
      ],
      "text/plain": [
       "                                               title  year  \\\n",
       "0  Delivering environmental decision support syst...  1997   \n",
       "1  Issues of EIS software design: some lessons le...  2001   \n",
       "2  A short discussion about the comparison betwee...  2006   \n",
       "3           Environmental modelling for blue collars  2011   \n",
       "4  The dynamic simulation and visualization softw...  2011   \n",
       "5  Behavioural issues in environmental modelling ...  2015   \n",
       "6  Environmental Modelling with Reverse Combinato...  2017   \n",
       "7  Dilemmas of modelling and decision-making in e...  2018   \n",
       "\n",
       "                                           DOI link  \n",
       "0  https://dx.doi.org/10.1016/S1364-8152(97)00016-9  \n",
       "1  https://dx.doi.org/10.1016/S1364-8152(01)00011-1  \n",
       "2       https://dx.doi.org/10.1007/1-4020-5263-4_57  \n",
       "3       https://dx.doi.org/10.1504/IJEP.2011.045482  \n",
       "4  https://dx.doi.org/10.1016/j.envsoft.2010.07.002  \n",
       "5  https://dx.doi.org/10.1016/j.envsoft.2015.08.019  \n",
       "6   https://dx.doi.org/10.1007/978-3-319-89935-0_34  \n",
       "7  https://dx.doi.org/10.1016/j.envsoft.2017.09.015  "
      ]
     },
     "execution_count": 27,
     "metadata": {},
     "output_type": "execute_result"
    }
   ],
   "source": [
    "# Create links to publications for review\n",
    "relevant_pubs = emf_manually_sorted[emf_manually_sorted.relevant == 'Yes']\n",
    "relevant_pubs_rc = wosis.find_pubs_by_doi(filtered_rc, relevant_pubs.DOI)\n",
    "relevant_pubs_df = wosis.rc_to_df(relevant_pubs_rc)\n",
    "relevant_pubs_df = wosis.link_to_pub(relevant_pubs_df)\n",
    "relevant_pubs_df.loc[:, ['title', 'year', 'DOI link']].sort_values('year').reset_index(drop=True)"
   ]
  },
  {
   "cell_type": "code",
   "execution_count": 28,
   "metadata": {},
   "outputs": [],
   "source": [
    "ems_software = iem_framework_subtopics.get_topic_by_id(6)"
   ]
  },
  {
   "cell_type": "code",
   "execution_count": 29,
   "metadata": {},
   "outputs": [
    {
     "data": {
      "text/plain": [
       "44"
      ]
     },
     "execution_count": 29,
     "metadata": {},
     "output_type": "execute_result"
    }
   ],
   "source": [
    "ems_software_rc = wosis.extract_recs(ems_software.id, filtered_rc)\n",
    "len(ems_software_rc)"
   ]
  },
  {
   "cell_type": "markdown",
   "metadata": {},
   "source": [
    "<hr>"
   ]
  },
  {
   "cell_type": "code",
   "execution_count": 30,
   "metadata": {},
   "outputs": [
    {
     "data": {
      "text/plain": [
       "<wosis.TopicResult.TopicResult at 0x269442a8748>"
      ]
     },
     "execution_count": 30,
     "metadata": {},
     "output_type": "execute_result"
    }
   ],
   "source": [
    "iem_framework_subtopics"
   ]
  },
  {
   "cell_type": "code",
   "execution_count": null,
   "metadata": {},
   "outputs": [],
   "source": []
  },
  {
   "cell_type": "code",
   "execution_count": 31,
   "metadata": {},
   "outputs": [
    {
     "data": {
      "image/png": "[encoded data removed]",
      "text/plain": [
       "<Figure size 576x432 with 1 Axes>"
      ]
     },
     "metadata": {
      "needs_background": "light"
     },
     "output_type": "display_data"
    }
   ],
   "source": [
    "keywords = set([\"software practice\", \"software development\", \"software engineering\", \n",
    "                \"best practice\", \"modeling practice\"])\n",
    "\n",
    "search_results = wosis.search_records(filtered_rc, keywords, threshold=95.0)\n",
    "\n",
    "matches = wosis.keyword_matches(search_results, keywords, 95.0)\n",
    "\n",
    "wos_plot.plot_pub_per_kw(matches.recs, matches.summary, filtered_rc, 'Practices', \n",
    "                         save_plot_fn='{}/pubs_per_practices_kw'.format(FIG_DIR))"
   ]
  },
  {
   "cell_type": "code",
   "execution_count": null,
   "metadata": {},
   "outputs": [],
   "source": []
  },
  {
   "cell_type": "code",
   "execution_count": 32,
   "metadata": {},
   "outputs": [
    {
     "ename": "NameError",
     "evalue": "name 'iem_assessment_rc' is not defined",
     "output_type": "error",
     "traceback": [
      "\u001b[1;31m---------------------------------------------------------------------------\u001b[0m",
      "\u001b[1;31mNameError\u001b[0m                                 Traceback (most recent call last)",
      "\u001b[1;32m<ipython-input-32-7c9d6f0b946d>\u001b[0m in \u001b[0;36m<module>\u001b[1;34m()\u001b[0m\n\u001b[0;32m      1\u001b[0m \u001b[0mkeywords\u001b[0m \u001b[1;33m=\u001b[0m \u001b[0mset\u001b[0m\u001b[1;33m(\u001b[0m\u001b[1;33m[\u001b[0m\u001b[1;34m\"software practice\"\u001b[0m\u001b[1;33m,\u001b[0m \u001b[1;34m\"software development\"\u001b[0m\u001b[1;33m,\u001b[0m \u001b[1;34m\"github\"\u001b[0m\u001b[1;33m,\u001b[0m \u001b[1;34m\"bitbucket\"\u001b[0m\u001b[1;33m,\u001b[0m \u001b[1;34m\"gitlab\"\u001b[0m\u001b[1;33m]\u001b[0m\u001b[1;33m)\u001b[0m\u001b[1;33m\u001b[0m\u001b[0m\n\u001b[0;32m      2\u001b[0m \u001b[1;33m\u001b[0m\u001b[0m\n\u001b[1;32m----> 3\u001b[1;33m \u001b[0msearch_results\u001b[0m \u001b[1;33m=\u001b[0m \u001b[0mwosis\u001b[0m\u001b[1;33m.\u001b[0m\u001b[0msearch_records\u001b[0m\u001b[1;33m(\u001b[0m\u001b[0miem_assessment_rc\u001b[0m\u001b[1;33m,\u001b[0m \u001b[0mkeywords\u001b[0m\u001b[1;33m,\u001b[0m \u001b[0mthreshold\u001b[0m\u001b[1;33m=\u001b[0m\u001b[1;36m95.0\u001b[0m\u001b[1;33m)\u001b[0m\u001b[1;33m\u001b[0m\u001b[0m\n\u001b[0m\u001b[0;32m      4\u001b[0m \u001b[1;33m\u001b[0m\u001b[0m\n\u001b[0;32m      5\u001b[0m \u001b[0mmatches\u001b[0m \u001b[1;33m=\u001b[0m \u001b[0mwosis\u001b[0m\u001b[1;33m.\u001b[0m\u001b[0mkeyword_matches\u001b[0m\u001b[1;33m(\u001b[0m\u001b[0msearch_results\u001b[0m\u001b[1;33m,\u001b[0m \u001b[0mkeywords\u001b[0m\u001b[1;33m,\u001b[0m \u001b[1;36m95.0\u001b[0m\u001b[1;33m)\u001b[0m\u001b[1;33m\u001b[0m\u001b[0m\n",
      "\u001b[1;31mNameError\u001b[0m: name 'iem_assessment_rc' is not defined"
     ]
    }
   ],
   "source": [
    "keywords = set([\"software practice\", \"software development\", \"github\", \"bitbucket\", \"gitlab\"])\n",
    "\n",
    "search_results = wosis.search_records(iem_assessment_rc, keywords, threshold=95.0)\n",
    "\n",
    "matches = wosis.keyword_matches(search_results, keywords, 95.0)\n",
    "\n",
    "# save_plot_fn='{}/pubs_per_practices_kw'.format(FIG_DIR)\n",
    "wos_plot.plot_pub_per_kw(matches.recs, matches.summary, iem_assessment_rc, 'Version Control')"
   ]
  },
  {
   "cell_type": "code",
   "execution_count": null,
   "metadata": {},
   "outputs": [],
   "source": [
    "software_phrases = wosis.find_phrases(software_in_iem)"
   ]
  },
  {
   "cell_type": "code",
   "execution_count": null,
   "metadata": {},
   "outputs": [],
   "source": [
    "software_phrases.display_phrases()"
   ]
  },
  {
   "cell_type": "code",
   "execution_count": null,
   "metadata": {},
   "outputs": [],
   "source": []
  }
 ],
 "metadata": {
  "kernelspec": {
   "display_name": "Python (Biblio)",
   "language": "python",
   "name": "myenv"
  },
  "language_info": {
   "codemirror_mode": {
    "name": "ipython",
    "version": 3
   },
   "file_extension": ".py",
   "mimetype": "text/x-python",
   "name": "python",
   "nbconvert_exporter": "python",
   "pygments_lexer": "ipython3",
   "version": "3.5.6"
  }
 },
 "nbformat": 4,
 "nbformat_minor": 2
}
