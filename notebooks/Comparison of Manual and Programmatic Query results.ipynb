{
 "cells": [
  {
   "cell_type": "code",
   "execution_count": 1,
   "metadata": {},
   "outputs": [],
   "source": [
    "# Common packages and variables\n",
    "%run \"Common Setup.ipynb\""
   ]
  },
  {
   "cell_type": "code",
   "execution_count": 2,
   "metadata": {},
   "outputs": [],
   "source": [
    "# dollar sign ($) is a wildcard used to match British and American spellings\n",
    "# e.g. flavo$r matches both flavour and flavor\n",
    "# see https://images.webofknowledge.com/images/help/WOS/hs_wildcards.html\n",
    "# http://ipscience-help.thomsonreuters.com/wosWebServicesLite/WebServiceOperationsGroup/WebServiceOperations/g2/user_query.html\n",
    "search_query = [\"\"\"\n",
    "TS=((\"Integrated Assessment and Model$ing\" OR \"integrated environmental model$ing\" \n",
    "     OR \"integrated assessment\" OR \"integrated model$ing\" OR \"environmental model$ing\" \n",
    "     OR \"hydrological model$ing\" OR \"ecological model$ing\" OR \"ecosystem model$ing\" \n",
    "     OR \"model$ing framework\" OR \"framework development\" OR \"model integration\") \n",
    "NOT (\"chemical\" OR \"industry\" OR \"cancer\" OR \"gene\")) \n",
    "NOT SO=(\"PSYCHOL*\" OR \"BIOINFO*\" OR \"BUSINESS INFORMATION*\" OR \"MANUFACTURING*\" \n",
    "        OR \"BIOLOGICALLY INSPIRED COGNITIVE ARCHITECTURES*\" OR \"COMPLEXITY*\" \n",
    "        OR \"INDUSTRIAL ECOLOGY*\" OR \"QUANTITATIVE FINANCE\" OR \"VIRTUAL REALITY*\" \n",
    "        OR \"COMMUNICATION NETWORKS*\" OR \"COMPUTER METHODS AND PROGRAMS IN BIOMEDICINE\" \n",
    "        OR \"ARTIFICIAL INTELLIGENCE IN EDUCATION\" OR \"INSURANCE MATHEMATICS & ECONOMICS\" \n",
    "        OR \"ASTIN BULLETIN\" OR \"COMMUNICATION TECHNOLOGY\" OR \"COMPUTERS & STRUCTURES\" \n",
    "        OR \"CHEMOSPHERE\" OR \"VISUAL COMPUTING\" OR \"INTERNATIONAL CONFERENCE ON COMPUTER SCIENCE AND APPLICATIONS\" \n",
    "        OR \"WASTE MANAGEMENT*\" OR \"OPTIMIZATION AND ENGINEERING\" OR \"COMPUTERS & OPERATIONS RESEARCH\")\n",
    "AND WC=(\"ENVIRONMENTAL SCIENCES\" OR \"WATER RESOURCES\" OR \"ENGINEERING ENVIRONMENTAL\" OR \"INTERDISCIPLINARY APPLICATIONS\")\n",
    "AND SU=(\"Environmental Sciences & Ecology\" OR \"Water Resources\" OR \"Computer Science\")\n",
    "\"\"\"]"
   ]
  },
  {
   "cell_type": "markdown",
   "metadata": {},
   "source": [
    "See [field tags](http://ipscience-help.thomsonreuters.com/wosWebServicesLite/WebServiceOperationsGroup/WebServiceOperations/g2/user_query/field_tags/WOSfieldTags.html) to help construct search parameters\n",
    "    "
   ]
  },
  {
   "cell_type": "markdown",
   "metadata": {},
   "source": [
    "The above query submitted manually through the Web of Science web interface (https://www.webofknowledge.com) with no search restrictions applied (i.e. all languages, all document types, across all available years) resulted in 8,870 papers (at time of writing: 25 Feb 2019).\n",
    "\n",
    "Downloading these - at the restricted 500 records per request - requires 18 separate requests to be manually submitted and the resulting datasets be manually combined.\n",
    "\n",
    "In contrast, programmatically requesting the data successfully retrieves 8,622 records for the same query."
   ]
  },
  {
   "cell_type": "markdown",
   "metadata": {},
   "source": [
    "## Send query to Clarivate Web of Science servers"
   ]
  },
  {
   "cell_type": "code",
   "execution_count": 3,
   "metadata": {
    "scrolled": false
   },
   "outputs": [
    {
     "name": "stdout",
     "output_type": "stream",
     "text": [
      "Authenticated (SID: 8BqybISCT5XDkWNu4mE)\n",
      "Found 8711 records\n"
     ]
    },
    {
     "data": {
      "application/vnd.jupyter.widget-view+json": {
       "model_id": "3ddc8256f100481a97054bacc3e24686",
       "version_major": 2,
       "version_minor": 0
      },
      "text/plain": [
       "HBox(children=(IntProgress(value=0, max=88), HTML(value='')))"
      ]
     },
     "metadata": {},
     "output_type": "display_data"
    },
    {
     "name": "stdout",
     "output_type": "stream",
     "text": [
      "\n",
      "Got 8622 records\n",
      "Wall time: 3min 7s\n"
     ]
    }
   ],
   "source": [
    "%%time\n",
    "overwrite = False  # Do not overwrite previous identical search if it exists\n",
    "search_span = {\n",
    "    'begin': '1900-01-01',\n",
    "    'end': '2018-12-31'\n",
    "}\n",
    "\n",
    "id_to_query, query_recs = wosis.query(search_query, overwrite, WOS_CONFIG, time_span=search_span, tmp_dir=TMP_DIR, skip_refs=True)"
   ]
  },
  {
   "cell_type": "code",
   "execution_count": 4,
   "metadata": {},
   "outputs": [],
   "source": [
    "RC = wosis.load_query_results('{}/{}.txt'.format(TMP_DIR, list(id_to_query)[0]))"
   ]
  },
  {
   "cell_type": "code",
   "execution_count": 5,
   "metadata": {},
   "outputs": [
    {
     "data": {
      "text/plain": [
       "8622"
      ]
     },
     "execution_count": 5,
     "metadata": {},
     "output_type": "execute_result"
    }
   ],
   "source": [
    "len(RC)"
   ]
  }
 ],
 "metadata": {
  "kernelspec": {
   "display_name": "Python (Biblio)",
   "language": "python",
   "name": "myenv"
  },
  "language_info": {
   "codemirror_mode": {
    "name": "ipython",
    "version": 3
   },
   "file_extension": ".py",
   "mimetype": "text/x-python",
   "name": "python",
   "nbconvert_exporter": "python",
   "pygments_lexer": "ipython3",
   "version": "3.5.6"
  }
 },
 "nbformat": 4,
 "nbformat_minor": 2
}
